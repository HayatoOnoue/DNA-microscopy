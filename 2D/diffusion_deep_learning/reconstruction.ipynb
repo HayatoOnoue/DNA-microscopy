{
 "cells": [
  {
   "cell_type": "markdown",
   "metadata": {
    "colab_type": "text",
    "id": "VXEnmFmUpHvj"
   },
   "source": [
    "# GCNNによって隣接行列からノードの座標の予測する"
   ]
  },
  {
   "cell_type": "markdown",
   "metadata": {
    "colab_type": "text",
    "id": "yMAR0SEvNVpd"
   },
   "source": [
    "## ライブラリのインポート"
   ]
  },
  {
   "cell_type": "code",
   "execution_count": null,
   "metadata": {
    "colab": {
     "base_uri": "https://localhost:8080/",
     "height": 34
    },
    "colab_type": "code",
    "executionInfo": {
     "elapsed": 102022,
     "status": "ok",
     "timestamp": 1599559457598,
     "user": {
      "displayName": "Hayato Onoue",
      "photoUrl": "",
      "userId": "07486968416296706504"
     },
     "user_tz": -540
    },
    "id": "PhVO0ABfv1r1",
    "outputId": "a0d99181-8ec0-48d2-c999-ae8d84cc765a"
   },
   "outputs": [],
   "source": [
    "import datetime\n",
    "import math\n",
    "import os\n",
    "import os.path as osp\n",
    "import random\n",
    "import time\n",
    "\n",
    "import graph_tool as gt\n",
    "import graph_tool.topology as topology\n",
    "import networkx as nx\n",
    "import numpy as np\n",
    "import torch\n",
    "import torch.nn as nn\n",
    "import torch.nn.functional as F\n",
    "import torch_geometric\n",
    "from joblib import Parallel, delayed\n",
    "from matplotlib import pyplot as plt\n",
    "from natsort import natsorted\n",
    "from scipy.io import mmread\n",
    "from torch_geometric.data import Data, DataLoader, Dataset, InMemoryDataset\n",
    "from torch_geometric.nn import GCNConv\n",
    "from torch_geometric.transforms import Compose\n",
    "from torch_scatter import scatter\n",
    "\n",
    "# random seed\n",
    "torch.manual_seed(1234)\n",
    "np.random.seed(1234)\n",
    "random.seed(1234)\n",
    "\n",
    "device = torch.device(\"cuda:0\" if torch.cuda.is_available() else \"cpu\")\n",
    "print(\"device:\", device)"
   ]
  },
  {
   "cell_type": "markdown",
   "metadata": {
    "colab_type": "text",
    "id": "KtL4mG6pNVpj"
   },
   "source": [
    "## 変数の設定"
   ]
  },
  {
   "cell_type": "code",
   "execution_count": null,
   "metadata": {
    "colab": {
     "base_uri": "https://localhost:8080/",
     "height": 34
    },
    "colab_type": "code",
    "executionInfo": {
     "elapsed": 102009,
     "status": "ok",
     "timestamp": 1599559457601,
     "user": {
      "displayName": "Hayato Onoue",
      "photoUrl": "",
      "userId": "07486968416296706504"
     },
     "user_tz": -540
    },
    "id": "jJKd8qE2NVpk",
    "outputId": "b6398173-beee-45f9-c07f-4f07b630893a"
   },
   "outputs": [],
   "source": [
    "is_trial = True\n",
    "sigma = 0.2  # sigmas = [0.2, 0.4, 0.6, 0.8]\n",
    "K, L0 = 1.0, 1.0\n",
    "EPS = 1e-6\n",
    "\n",
    "n_jobs = int(os.cpu_count() * 0.8)\n",
    "\n",
    "data_size_type = \"small_\" if is_trial else \"large_\"\n",
    "Dataset_type = \"Dataset\"\n",
    "prefix = \"_\" + str(sigma)\n",
    "root = osp.join(\"data\", data_size_type + \"reconstruction_\" + Dataset_type + prefix)\n",
    "\n",
    "if is_trial:\n",
    "    epoch_num = 5\n",
    "    batch_size = 3\n",
    "else:\n",
    "    epoch_num = 100\n",
    "    batch_size = 8\n",
    "\n",
    "print(\"n_jobs = {}\".format(n_jobs))"
   ]
  },
  {
   "cell_type": "markdown",
   "metadata": {
    "colab_type": "text",
    "id": "0ULNp1nAfqVI"
   },
   "source": [
    "## Datasetクラスの定義"
   ]
  },
  {
   "cell_type": "code",
   "execution_count": null,
   "metadata": {
    "colab": {},
    "colab_type": "code",
    "executionInfo": {
     "elapsed": 101986,
     "status": "ok",
     "timestamp": 1599559457604,
     "user": {
      "displayName": "Hayato Onoue",
      "photoUrl": "",
      "userId": "07486968416296706504"
     },
     "user_tz": -540
    },
    "id": "uKiPKNI5fy-d"
   },
   "outputs": [],
   "source": [
    "class MyDataset(Dataset):\n",
    "\n",
    "    processed_file_name = \"data_{}.pt\"\n",
    "\n",
    "    def __init__(self, root, transform=None, pre_transform=None):\n",
    "        super(MyDataset, self).__init__(root, transform, pre_transform)\n",
    "\n",
    "    @property\n",
    "    def processed_file_names(self):\n",
    "        num_graph = len(os.listdir(osp.join(self.raw_dir, \"adjs\")))\n",
    "        return [self.processed_file_name.format(i) for i in range(num_graph)]\n",
    "\n",
    "    def process(self):\n",
    "        adj_file_names = natsorted(os.listdir(osp.join(self.raw_dir, \"adjs\")))\n",
    "        coords_file_names = natsorted(os.listdir(osp.join(self.raw_dir, \"coords\")))\n",
    "        num_samples = len(adj_file_names)\n",
    "\n",
    "        def generate_Data(index):\n",
    "            adj_file_name = adj_file_names[index]\n",
    "            coords_file_name = coords_file_names[index]\n",
    "            adj_coo = mmread(osp.join(self.raw_dir, \"adjs\", adj_file_name))\n",
    "            coords_nda = mmread(osp.join(self.raw_dir, \"coords\", coords_file_name))\n",
    "            num_nodes = adj_coo.shape[0]\n",
    "            edge_index, edge_attr = torch_geometric.utils.from_scipy_sparse_matrix(\n",
    "                adj_coo\n",
    "            )\n",
    "\n",
    "            data = Data(\n",
    "                x=torch.ones((num_nodes, 1)).float(),\n",
    "                edge_index=edge_index,\n",
    "                edge_attr=edge_attr.float() ** -1,  # invert edge_attr\n",
    "                pos=torch.tensor(coords_nda).float(),\n",
    "            )\n",
    "\n",
    "            g = gt.Graph(directed=False)\n",
    "            edge_list = np.array([adj_coo.row, adj_coo.col, adj_coo.data ** -1]).T\n",
    "            eweight = g.new_ep(\"float\")\n",
    "            g.add_vertex(num_nodes)\n",
    "            g.add_edge_list(edge_list, eprops=[eweight])\n",
    "            dist = topology.shortest_distance(g, weights=eweight)\n",
    "            graph_dist = torch.tensor(\n",
    "                list(map(lambda i: dist[g.vertex(i)].a, range(g.num_vertices()))),\n",
    "                dtype=torch.float,\n",
    "            )\n",
    "            data.distance = graph_dist.view(-1, 1)\n",
    "\n",
    "            if self.pre_transform is not None:\n",
    "                data = self.pre_transform(data)\n",
    "\n",
    "            torch.save(\n",
    "                data,\n",
    "                osp.join(self.processed_dir, self.processed_file_name.format(index)),\n",
    "            )\n",
    "\n",
    "        Parallel(n_jobs=n_jobs)([delayed(generate_Data)(i) for i in range(num_samples)])\n",
    "\n",
    "    def len(self):\n",
    "        return len(self.processed_file_names)\n",
    "\n",
    "    def get(self, idx):\n",
    "        data = torch.load(osp.join(self.processed_dir, \"data_{}.pt\".format(idx)))\n",
    "        return data\n",
    "\n",
    "\n",
    "class EdgeAttrInvert:\n",
    "    r\"\"\"Raise edge_attr to the power pow_.\"\"\"\n",
    "\n",
    "    def __init__(self, pow_=-1.0):\n",
    "        self.pow_ = pow_\n",
    "\n",
    "    def __call__(self, data):\n",
    "        data.edge_attr = data.edge_attr ** self.pow_\n",
    "        return data\n",
    "\n",
    "    def __repr__(self):\n",
    "        return \"{}()\".format(self.__class__.__name__)"
   ]
  },
  {
   "cell_type": "markdown",
   "metadata": {
    "colab_type": "text",
    "id": "T2O2r6c7vFPo"
   },
   "source": [
    "## ネットワーク, Lossの定義"
   ]
  },
  {
   "cell_type": "code",
   "execution_count": null,
   "metadata": {
    "colab": {},
    "colab_type": "code",
    "executionInfo": {
     "elapsed": 101926,
     "status": "ok",
     "timestamp": 1599559457607,
     "user": {
      "displayName": "Hayato Onoue",
      "photoUrl": "",
      "userId": "07486968416296706504"
     },
     "user_tz": -540
    },
    "id": "8FqBr83nNVpt"
   },
   "outputs": [],
   "source": [
    "class Net(torch.nn.Module):\n",
    "    def __init__(self):\n",
    "        super(Net, self).__init__()\n",
    "        # TODO: 入力グラフのチャネル数への依存をなくす\n",
    "        self.conv1 = GCNConv(1, 16)\n",
    "        self.conv2 = GCNConv(16, 32)\n",
    "        self.conv3 = GCNConv(32, 48)\n",
    "        self.conv4 = GCNConv(48, 64)\n",
    "        self.conv5 = GCNConv(64, 96)\n",
    "        self.conv6 = GCNConv(96, 128)\n",
    "        self.linear1 = torch.nn.Linear(128, 64)\n",
    "        # TODO: 分類数への依存をなくす\n",
    "        self.linear2 = torch.nn.Linear(64, 2)\n",
    "\n",
    "    def forward(self, data):\n",
    "        x, edge_index = data.x, data.edge_index\n",
    "\n",
    "        # edge_weightとして用いるedge_attrのshapeが(n,1)だとうまくいかない．\n",
    "        # edge_attr.shapeが(n,)だと動く．おそらくPyG側のバグ？\n",
    "        edge_weight = torch.squeeze(data.edge_attr)\n",
    "        x = self.conv1(x, edge_index, edge_weight)\n",
    "        x = F.relu(x)\n",
    "        x = self.conv2(x, edge_index, edge_weight)\n",
    "        x = F.relu(x)\n",
    "        x = self.conv3(x, edge_index, edge_weight)\n",
    "        x = F.relu(x)\n",
    "        x = self.conv4(x, edge_index, edge_weight)\n",
    "        x = F.relu(x)\n",
    "        x = self.conv5(x, edge_index, edge_weight)\n",
    "        x = F.relu(x)\n",
    "        x = self.conv6(x, edge_index, edge_weight)\n",
    "        x = F.relu(x)\n",
    "\n",
    "        x = self.linear1(x)\n",
    "        x = F.relu(x)\n",
    "        x = self.linear2(x)\n",
    "        return x\n",
    "\n",
    "\n",
    "class KKLoss(nn.Module):\n",
    "    \"\"\"Return energy of Kamada-Kawai as loss\"\"\"\n",
    "\n",
    "    def __init__(self, K=1.0, L0=1.0, eps=1e-6):\n",
    "        super().__init__()\n",
    "        self.K = K\n",
    "        self.L0 = L0\n",
    "        self.eps = eps\n",
    "\n",
    "    def forward(self, batch, prediction):\n",
    "        \"\"\"\n",
    "        The Kamada-Kawai loss of the graph included in\n",
    "        the batch is calculated in parallel as in the mini-batch.\n",
    "        \"\"\"\n",
    "        data_list = batch.to_data_list()\n",
    "        s = torch.tensor(0, dtype=torch.float).to(device)\n",
    "        for h, data in enumerate(data_list):\n",
    "            graph_dist = data.distance.view(data.num_nodes, data.num_nodes)\n",
    "            k = self.K * torch.where(graph_dist != 0, graph_dist ** -2, graph_dist)\n",
    "\n",
    "            if float(\"inf\") in graph_dist:\n",
    "                d_max = torch.unique(graph_dist, sorted=True)[-2]  # avoid inf\n",
    "            else:\n",
    "                d_max = torch.unique(graph_dist, sorted=True)[-1]\n",
    "\n",
    "            L = self.L0 / d_max\n",
    "            l = L * graph_dist\n",
    "            l[l == float(\"inf\")] = 0  # avoid 0 * inf = nan\n",
    "            positions = prediction[torch.flatten(batch.batch == h), :]\n",
    "            dx = positions[:, [0]] - positions[:, 0]\n",
    "            dy = positions[:, [1]] - positions[:, 1]\n",
    "            e = torch.sum(\n",
    "                0.5 * k * (dx**2 + dy**2 + l**2\n",
    "                - 2*l*torch.sqrt(dx**2 + dy**2 + self.eps))\n",
    "                ) * 0.5\n",
    "            s += e\n",
    "\n",
    "        return s / batch.num_graphs"
   ]
  },
  {
   "cell_type": "markdown",
   "metadata": {
    "colab_type": "text",
    "id": "QZuCD2hMiFSv"
   },
   "source": [
    "## DataLoaderの作成"
   ]
  },
  {
   "cell_type": "code",
   "execution_count": null,
   "metadata": {
    "colab": {},
    "colab_type": "code",
    "executionInfo": {
     "elapsed": 113560,
     "status": "ok",
     "timestamp": 1599559469298,
     "user": {
      "displayName": "Hayato Onoue",
      "photoUrl": "",
      "userId": "07486968416296706504"
     },
     "user_tz": -540
    },
    "id": "hPnWlVMQgRbo"
   },
   "outputs": [],
   "source": [
    "# edge_attr_invert = EdgeAttrInvert(pow_=pow_)\n",
    "# my_pre_transform = edge_attr_invert\n",
    "\n",
    "train_root = osp.join(root, \"train\")\n",
    "val_root = osp.join(root, \"val\")\n",
    "test_root = osp.join(root, \"test\")\n",
    "\n",
    "train_set = MyDataset(train_root)\n",
    "val_set = MyDataset(val_root)\n",
    "test_set = MyDataset(test_root)\n",
    "\n",
    "train_loader = DataLoader(train_set, batch_size=batch_size)\n",
    "val_loader = DataLoader(val_set, batch_size=batch_size)\n",
    "test_loader = DataLoader(test_set, batch_size=batch_size)\n",
    "\n",
    "train_size = len(train_set)\n",
    "val_size = len(val_set)\n",
    "test_size = len(test_set)"
   ]
  },
  {
   "cell_type": "markdown",
   "metadata": {
    "colab_type": "text",
    "id": "z0RaAOKXP5MK"
   },
   "source": [
    "## 学習"
   ]
  },
  {
   "cell_type": "code",
   "execution_count": null,
   "metadata": {
    "colab": {
     "base_uri": "https://localhost:8080/",
     "height": 600
    },
    "colab_type": "code",
    "executionInfo": {
     "elapsed": 1654106,
     "status": "error",
     "timestamp": 1599561070616,
     "user": {
      "displayName": "Hayato Onoue",
      "photoUrl": "",
      "userId": "07486968416296706504"
     },
     "user_tz": -540
    },
    "id": "EZkA2ZvhWpG1",
    "outputId": "bf7a1b42-bccb-4d04-f022-f57e2bbfca71"
   },
   "outputs": [],
   "source": [
    "start = time.time()\n",
    "model = Net().to(device)\n",
    "optimizer = torch.optim.Adam(model.parameters())\n",
    "# criterion = nn.MSELoss()\n",
    "criterion = KKLoss(K=K, L0=L0, eps=EPS)\n",
    "history = {\n",
    "    \"train_loss\": [],\n",
    "    \"val_loss\": [],\n",
    "}\n",
    "\n",
    "for epoch in range(epoch_num):\n",
    "    train_loss = 0.0\n",
    "    model.train()\n",
    "    for i, batch in enumerate(train_loader):\n",
    "        batch = batch.to(device)\n",
    "        optimizer.zero_grad()\n",
    "        prediction = model(batch)\n",
    "        loss = criterion(batch, prediction)\n",
    "        loss.backward()\n",
    "        optimizer.step()\n",
    "        train_loss += loss.cpu().item()\n",
    "\n",
    "        if i % 10 == 9:\n",
    "            progress_bar = (\n",
    "                \"[\"\n",
    "                + (\"=\" * ((i + 1) // 10))\n",
    "                + (\" \" * ((train_size // 100 - (i + 1)) // 10))\n",
    "                + \"]\"\n",
    "            )\n",
    "            print(\n",
    "                \"\\repoch: {:d} loss: {:.3f}  {}\".format(\n",
    "                    epoch + 1, loss.cpu().item(), progress_bar,\n",
    "                ),\n",
    "                end=\"  \",\n",
    "            )\n",
    "\n",
    "    print(\n",
    "        \"\\repoch: {:d} loss: {:.3f}\".format(\n",
    "            epoch + 1, train_loss / math.ceil(train_size / batch_size)\n",
    "        ),\n",
    "        end=\"  \",\n",
    "    )\n",
    "    history[\"train_loss\"].append(train_loss / math.ceil(train_size / batch_size))\n",
    "\n",
    "    batch_num = 0\n",
    "    loss = 0\n",
    "    with torch.no_grad():\n",
    "        model.eval()\n",
    "        for batch in val_loader:\n",
    "            batch = batch.to(device)\n",
    "            prediction = model(batch)\n",
    "            loss += criterion(batch, prediction)\n",
    "            batch_num += 1\n",
    "\n",
    "    history[\"val_loss\"].append(loss.cpu().item() / batch_num)\n",
    "    endstr = \" \" * max(1, (train_size // 1000 - 39)) + \"\\n\"\n",
    "    print(f\"Val Loss: {loss.cpu().item()/batch_num:.3f}\", end=endstr)\n",
    "\n",
    "\n",
    "print(\"Finished Training\")\n",
    "elapsed_time = time.time() - start\n",
    "print(\"elapsed time: {}\".format(datetime.timedelta(seconds=int(elapsed_time))))"
   ]
  },
  {
   "cell_type": "markdown",
   "metadata": {
    "colab_type": "text",
    "id": "HBkC2aF4eGH-"
   },
   "source": [
    "## 可視化"
   ]
  },
  {
   "cell_type": "code",
   "execution_count": null,
   "metadata": {
    "colab": {},
    "colab_type": "code",
    "id": "VN29VyfWeIh3"
   },
   "outputs": [],
   "source": [
    "# 損失\n",
    "plt.xlabel(\"epoch\")\n",
    "plt.ylabel(\"loss\")\n",
    "\n",
    "x = np.arange(epoch_num) + 1\n",
    "plt.plot(x, history[\"train_loss\"], label=\"train loss\")\n",
    "plt.plot(x, history[\"val_loss\"], label=\"val loss\")\n",
    "plt.legend()\n",
    "plt.show()"
   ]
  },
  {
   "cell_type": "code",
   "execution_count": null,
   "metadata": {
    "colab": {},
    "colab_type": "code",
    "id": "IDcfJAmtFP4u"
   },
   "outputs": [],
   "source": [
    "# 頂点の描画\n",
    "test_index = 0\n",
    "nBeads = test_set[test_index].num_nodes\n",
    "node_list = list(range(nBeads))\n",
    "test_data = test_set[test_index].to(device)\n",
    "\n",
    "# テストデータのノードの座標を予想\n",
    "with torch.no_grad():\n",
    "    model.eval()\n",
    "    estimated_coords = model(test_data)\n",
    "\n",
    "# 描画のためのグラフを作成\n",
    "test_edge_indices = torch.t(test_data.edge_index).to(\"cpu\").detach().numpy()\n",
    "true_coords = test_data.pos.to(\"cpu\").detach().numpy().copy()\n",
    "\n",
    "G = nx.Graph()\n",
    "G.add_nodes_from(node_list)\n",
    "G.add_edges_from(test_edge_indices)\n",
    "\n",
    "fig = plt.figure()\n",
    "\n",
    "ax1 = fig.add_subplot(1, 2, 1)\n",
    "ax1.set_title(\"True\")\n",
    "ax2 = fig.add_subplot(1, 2, 2)\n",
    "ax2.set_title(\"Estimated\")\n",
    "\n",
    "true_pos = dict(zip(node_list, true_coords))\n",
    "# nx.draw_networkx(G, pos=true_pos, with_labels=False, ax=ax1,\n",
    "#                 node_color=\"red\", node_size=2)\n",
    "nx.draw_networkx_nodes(G, pos=true_pos, ax=ax1, node_color=\"red\", node_size=2)\n",
    "\n",
    "estimated_pos = dict(zip(node_list, estimated_coords.cpu().detach().numpy()))\n",
    "# nx.draw_networkx(G, pos=estimated_pos, with_labels=False, ax=ax2,\n",
    "#                 node_color=\"red\", node_size=2)\n",
    "nx.draw_networkx_nodes(G, pos=estimated_pos, ax=ax2, node_color=\"red\", node_size=2)\n",
    "\n",
    "plt.show()"
   ]
  },
  {
   "cell_type": "markdown",
   "metadata": {
    "colab_type": "text",
    "id": "kjiew9tRNVqJ"
   },
   "source": [
    "## 実験条件"
   ]
  },
  {
   "cell_type": "code",
   "execution_count": null,
   "metadata": {
    "colab": {},
    "colab_type": "code",
    "id": "RejyDDxdNVqK"
   },
   "outputs": [],
   "source": [
    "t = 20\n",
    "drop_probability = 0.01\n",
    "mean = 0\n",
    "pow_ = -1.0\n",
    "\n",
    "print(\"=====Simulation conditions=====\")\n",
    "print(\"目的：隣接町列を生成した数字の予測\")\n",
    "print(\"ネットワーク：GCNN\")\n",
    "print(\"Test run: {}\".format(is_trial))\n",
    "\n",
    "print(\"Probabirity of edge drop: {}\".format(drop_probability))\n",
    "print(\"Pow: {}\".format(pow_))\n",
    "print(\"Info about normal distribution: mean: {}, sigma: {}\".format(mean, sigma))\n",
    "\n",
    "print(\"Number of beads: {}\".format(nBeads))\n",
    "print(\"Number of samples for training: {}\".format(train_size))\n",
    "\n",
    "print(\"Number of epochs: {}\".format(epoch_num))\n",
    "print(\"Batch size: {}\".format(batch_size))\n",
    "print(\"Diffusion time: {}\".format(t))\n",
    "\n",
    "print(\"=====Results=====\")\n",
    "print(\"elapsed time: {}\".format(datetime.timedelta(seconds=int(elapsed_time))))"
   ]
  }
 ],
 "metadata": {
  "accelerator": "GPU",
  "colab": {
   "collapsed_sections": [],
   "name": "reconstruction.ipynb",
   "provenance": [],
   "toc_visible": true
  },
  "kernelspec": {
   "display_name": "Python 3",
   "language": "python",
   "name": "python3"
  },
  "language_info": {
   "codemirror_mode": {
    "name": "ipython",
    "version": 3
   },
   "file_extension": ".py",
   "mimetype": "text/x-python",
   "name": "python",
   "nbconvert_exporter": "python",
   "pygments_lexer": "ipython3",
   "version": "3.8.5"
  }
 },
 "nbformat": 4,
 "nbformat_minor": 4
}
