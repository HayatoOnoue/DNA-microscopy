{
 "cells": [
  {
   "cell_type": "markdown",
   "metadata": {
    "colab_type": "text",
    "id": "VXEnmFmUpHvj"
   },
   "source": [
    "# GCNNによって隣接行列からノードの座標の予測する"
   ]
  },
  {
   "cell_type": "markdown",
   "metadata": {
    "colab_type": "text",
    "id": "yMAR0SEvNVpd"
   },
   "source": [
    "## ライブラリのインポート"
   ]
  },
  {
   "cell_type": "code",
   "execution_count": null,
   "metadata": {
    "colab": {
     "base_uri": "https://localhost:8080/",
     "height": 34
    },
    "colab_type": "code",
    "executionInfo": {
     "elapsed": 102022,
     "status": "ok",
     "timestamp": 1599559457598,
     "user": {
      "displayName": "Hayato Onoue",
      "photoUrl": "",
      "userId": "07486968416296706504"
     },
     "user_tz": -540
    },
    "id": "PhVO0ABfv1r1",
    "outputId": "a0d99181-8ec0-48d2-c999-ae8d84cc765a",
    "tags": []
   },
   "outputs": [],
   "source": [
    "import datetime\n",
    "import math\n",
    "import os\n",
    "import os.path as osp\n",
    "import random\n",
    "import time\n",
    "\n",
    "import igraph\n",
    "import networkx as nx\n",
    "import numpy as np\n",
    "import torch\n",
    "import torch.nn as nn\n",
    "import torch.nn.functional as F\n",
    "import torch_geometric\n",
    "from joblib import Parallel, delayed\n",
    "from matplotlib import pyplot as plt\n",
    "from natsort import natsorted\n",
    "from scipy.io import mmread\n",
    "from torch_geometric.data import Data, DataLoader, Batch, Dataset, InMemoryDataset\n",
    "from torch_geometric.nn import GCNConv\n",
    "from torch_geometric.transforms import Compose\n",
    "from torch_scatter import scatter\n",
    "\n",
    "# random seed\n",
    "torch.manual_seed(1234)\n",
    "\n",
    "np.random.seed(1234)\n",
    "random.seed(1234)\n",
    "\n",
    "device = torch.device(\"cuda:0\" if torch.cuda.is_available() else \"cpu\")\n",
    "print(\"device:\", device)"
   ]
  },
  {
   "cell_type": "markdown",
   "metadata": {
    "colab_type": "text",
    "id": "KtL4mG6pNVpj"
   },
   "source": [
    "## 変数の設定"
   ]
  },
  {
   "cell_type": "code",
   "execution_count": null,
   "metadata": {
    "colab": {
     "base_uri": "https://localhost:8080/",
     "height": 34
    },
    "colab_type": "code",
    "executionInfo": {
     "elapsed": 102009,
     "status": "ok",
     "timestamp": 1599559457601,
     "user": {
      "displayName": "Hayato Onoue",
      "photoUrl": "",
      "userId": "07486968416296706504"
     },
     "user_tz": -540
    },
    "id": "jJKd8qE2NVpk",
    "outputId": "b6398173-beee-45f9-c07f-4f07b630893a",
    "tags": []
   },
   "outputs": [],
   "source": [
    "exists_noise = False\n",
    "is_trial = True\n",
    "is_weighted = True\n",
    "should_invert = False\n",
    "sigma = 0.2  # sigmas = [0.2, 0.4, 0.6, 0.8]\n",
    "pow_ = -1\n",
    "K, L0 = 1.0, 1.0\n",
    "EPS = 1e-6\n",
    "\n",
    "n_jobs = int(os.cpu_count() * 0.8)\n",
    "\n",
    "data_size_type = \"small_\" if is_trial else \"large_\"\n",
    "Dataset_type = \"Dataset\"\n",
    "prefix_sigma = \"_\" + str(sigma) if exists_noise else \"\"\n",
    "prefix_inverted = \"_inverted\" if should_invert else \"\"\n",
    "root = osp.join(\n",
    "    \"data\",\n",
    "    data_size_type + \"reconstruction_\" + Dataset_type + prefix_sigma + prefix_inverted\n",
    ")\n",
    "\n",
    "if is_trial:\n",
    "    epoch_num = 5\n",
    "    batch_size = 30\n",
    "else:\n",
    "    epoch_num = 100\n",
    "    batch_size = 8\n",
    "\n",
    "print(\"n_jobs = {}\".format(n_jobs))"
   ]
  },
  {
   "cell_type": "markdown",
   "metadata": {
    "colab_type": "text",
    "id": "0ULNp1nAfqVI"
   },
   "source": [
    "## Datasetクラスの定義"
   ]
  },
  {
   "cell_type": "code",
   "execution_count": null,
   "outputs": [],
   "source": [
    "class MyDataset(Dataset):\n",
    "\n",
    "    processed_file_name = \"data_{}.pt\"\n",
    "\n",
    "    def __init__(self, root, transform=None, pre_transform=None):\n",
    "        super(MyDataset, self).__init__(root, transform, pre_transform)\n",
    "\n",
    "    @property\n",
    "    def processed_file_names(self):\n",
    "        num_graph = len(os.listdir(osp.join(self.raw_dir, \"adjs\")))\n",
    "        return [self.processed_file_name.format(i) for i in range(num_graph)]\n",
    "\n",
    "    def process(self):\n",
    "        adj_file_names = natsorted(os.listdir(osp.join(self.raw_dir, \"adjs\")))\n",
    "        coords_file_names = natsorted(os.listdir(osp.join(self.raw_dir, \"coords\")))\n",
    "        num_samples = len(adj_file_names)\n",
    "\n",
    "        def generate_weighted_unweighted_Data(index):\n",
    "            adj_file_name = adj_file_names[index]\n",
    "            coords_file_name = coords_file_names[index]\n",
    "            adj_coo = mmread(osp.join(self.raw_dir, \"adjs\", adj_file_name))\n",
    "            coords_nda = mmread(osp.join(self.raw_dir, \"coords\", coords_file_name))\n",
    "            num_nodes = adj_coo.shape[0]\n",
    "            edge_index, edge_attr = torch_geometric.utils.from_scipy_sparse_matrix(adj_coo)\n",
    "\n",
    "            # compute graph_dist_matrix\n",
    "            edges = np.array([adj_coo.row, adj_coo.col]).T\n",
    "            g = igraph.Graph(n=num_nodes,edges=edges)\n",
    "            g.es[\"weight\"] = adj_coo.data\n",
    "            weighted_dist = torch.tensor(g.shortest_paths_dijkstra(weights=\"weight\"), dtype=torch.float)\n",
    "            unweighted_dist = torch.tensor(g.shortest_paths_dijkstra(), dtype=torch.float)\n",
    "\n",
    "            data = Data(\n",
    "                x=torch.ones((num_nodes, 1)).float(),\n",
    "                edge_index=edge_index,\n",
    "                edge_attr=edge_attr.view(-1, 1).float(),\n",
    "                pos=torch.tensor(coords_nda).float(),\n",
    "                weighted_dist=weighted_dist.view(-1, 1),\n",
    "                unweighted_dist=unweighted_dist.view(-1, 1),\n",
    "            )\n",
    "\n",
    "            if self.pre_transform is not None:\n",
    "                data = self.pre_transform(data)\n",
    "\n",
    "            torch.save(\n",
    "                data,\n",
    "                osp.join(self.processed_dir, self.processed_file_name.format(index)),\n",
    "            )\n",
    "\n",
    "        Parallel(n_jobs=n_jobs)(\n",
    "            [delayed(generate_weighted_unweighted_Data)(i) for i in range(num_samples)]\n",
    "        )\n",
    "\n",
    "    def len(self):\n",
    "        return len(self.processed_file_names)\n",
    "\n",
    "    def get(self, idx):\n",
    "        data = torch.load(osp.join(self.processed_dir, \"data_{}.pt\".format(idx)))\n",
    "        return data\n",
    "\n",
    "\n",
    "class WeightedOrUnweighted:\n",
    "    r\"\"\"Transform a Data object based on whether it is used as weighted or unweighted\"\"\"\n",
    "    def __init__(self, is_weighted):\n",
    "        self.is_weighted = is_weighted\n",
    "\n",
    "    def __call__(self, data):\n",
    "        if self.is_weighted:\n",
    "            data.dist = data.weighted_dist\n",
    "        else:\n",
    "            data.edge_attr = None\n",
    "            data.dist = data.unweighted_dist\n",
    "\n",
    "        del data.weighted_dist, data.unweighted_dist\n",
    "        return data"
   ],
   "metadata": {
    "collapsed": false,
    "pycharm": {
     "name": "#%%\n"
    }
   }
  },
  {
   "cell_type": "markdown",
   "metadata": {
    "colab_type": "text",
    "id": "T2O2r6c7vFPo"
   },
   "source": [
    "## ネットワーク, Lossの定義"
   ]
  },
  {
   "cell_type": "code",
   "execution_count": null,
   "metadata": {
    "colab": {},
    "colab_type": "code",
    "executionInfo": {
     "elapsed": 101926,
     "status": "ok",
     "timestamp": 1599559457607,
     "user": {
      "displayName": "Hayato Onoue",
      "photoUrl": "",
      "userId": "07486968416296706504"
     },
     "user_tz": -540
    },
    "id": "8FqBr83nNVpt"
   },
   "outputs": [],
   "source": [
    "class Net(torch.nn.Module):\n",
    "    def __init__(self):\n",
    "        super(Net, self).__init__()\n",
    "        # TODO: 入力グラフのチャネル数への依存をなくす\n",
    "        self.conv1 = GCNConv(1, 16)\n",
    "        self.conv2 = GCNConv(16, 32)\n",
    "        self.conv3 = GCNConv(32, 48)\n",
    "        self.conv4 = GCNConv(48, 64)\n",
    "        self.conv5 = GCNConv(64, 96)\n",
    "        self.conv6 = GCNConv(96, 128)\n",
    "        self.linear1 = torch.nn.Linear(128, 64)\n",
    "        # TODO: 分類数への依存をなくす\n",
    "        self.linear2 = torch.nn.Linear(64, 2)\n",
    "\n",
    "    def forward(self, data):\n",
    "        x, edge_index = data.x, data.edge_index\n",
    "\n",
    "        # edge_weightとして用いるedge_attrのshapeが(n,1)だとうまくいかない．\n",
    "        # edge_attr.shapeが(n,)だと動く．おそらくPyG側のバグ？\n",
    "        edge_weight = None if data.edge_attr is None else torch.squeeze(data.edge_attr)\n",
    "        x = self.conv1(x, edge_index, edge_weight)\n",
    "        x = F.relu(x)\n",
    "        x = self.conv2(x, edge_index, edge_weight)\n",
    "        x = F.relu(x)\n",
    "        x = self.conv3(x, edge_index, edge_weight)\n",
    "        x = F.relu(x)\n",
    "        x = self.conv4(x, edge_index, edge_weight)\n",
    "        x = F.relu(x)\n",
    "        x = self.conv5(x, edge_index, edge_weight)\n",
    "        x = F.relu(x)\n",
    "        x = self.conv6(x, edge_index, edge_weight)\n",
    "        x = F.relu(x)\n",
    "\n",
    "        x = self.linear1(x)\n",
    "        x = F.relu(x)\n",
    "        x = self.linear2(x)\n",
    "        return x\n",
    "\n",
    "\n",
    "class KKLoss(nn.Module):\n",
    "    \"\"\"Return energy of Kamada-Kawai as loss\"\"\"\n",
    "\n",
    "    def __init__(self, K=1.0, L0=1.0, eps=1e-6):\n",
    "        super().__init__()\n",
    "        self.K = K\n",
    "        self.L0 = L0\n",
    "        self.eps = eps\n",
    "\n",
    "    def forward(self, batch, prediction):\n",
    "        \"\"\"\n",
    "        The Kamada-Kawai loss of the graph included in\n",
    "        the batch is calculated in parallel as in the mini-batch.\n",
    "        \"\"\"\n",
    "        data_list = batch.to_data_list()\n",
    "        s = torch.tensor(0, dtype=torch.float).to(device)\n",
    "        num_graphs = 0\n",
    "        for h, data in enumerate(data_list):\n",
    "\n",
    "            if data.num_edges == 0:  # skip graph which has no edge\n",
    "                continue\n",
    "\n",
    "            num_graphs += 1\n",
    "            graph_dist = data.dist.view(data.num_nodes, data.num_nodes)\n",
    "            k = self.K * torch.where(graph_dist != 0, graph_dist ** -2, graph_dist)\n",
    "\n",
    "            if float(\"inf\") in graph_dist:\n",
    "                d_max = torch.unique(graph_dist, sorted=True)[-2]  # avoid inf\n",
    "            else:\n",
    "                d_max = torch.unique(graph_dist, sorted=True)[-1]\n",
    "\n",
    "            L = self.L0 / d_max\n",
    "            l = L * graph_dist\n",
    "            l[l == float(\"inf\")] = 0  # avoid 0 * inf = nan\n",
    "            positions = prediction[torch.flatten(batch.batch == h), :]\n",
    "            dx = positions[:, [0]] - positions[:, 0]\n",
    "            dy = positions[:, [1]] - positions[:, 1]\n",
    "            e = torch.sum(\n",
    "                0.5 * k * (dx**2 + dy**2 + l**2\n",
    "                - 2*l*torch.sqrt(dx**2 + dy**2 + self.eps))\n",
    "                ) * 0.5\n",
    "            s += e\n",
    "\n",
    "        return s / num_graphs"
   ]
  },
  {
   "cell_type": "markdown",
   "metadata": {
    "colab_type": "text",
    "id": "QZuCD2hMiFSv"
   },
   "source": [
    "## DataLoaderの作成"
   ]
  },
  {
   "cell_type": "code",
   "execution_count": null,
   "metadata": {
    "colab": {},
    "colab_type": "code",
    "executionInfo": {
     "elapsed": 113560,
     "status": "ok",
     "timestamp": 1599559469298,
     "user": {
      "displayName": "Hayato Onoue",
      "photoUrl": "",
      "userId": "07486968416296706504"
     },
     "user_tz": -540
    },
    "id": "hPnWlVMQgRbo"
   },
   "outputs": [],
   "source": [
    "weighted_or_unweithted = WeightedOrUnweighted(is_weighted=is_weighted)\n",
    "my_transform = weighted_or_unweithted\n",
    "\n",
    "train_root = osp.join(root, \"train\")\n",
    "val_root = osp.join(root, \"val\")\n",
    "test_root = osp.join(root, \"test\")\n",
    "\n",
    "train_set = MyDataset(train_root, transform=my_transform)\n",
    "val_set = MyDataset(val_root, transform=my_transform)\n",
    "#test_set = MyDataset(test_root, transform=my_transform)\n",
    "test_set = MyDataset(test_root)\n",
    "\n",
    "train_loader = DataLoader(train_set, batch_size=batch_size)\n",
    "val_loader = DataLoader(val_set, batch_size=batch_size)\n",
    "test_loader = DataLoader(test_set, batch_size=batch_size)\n",
    "\n",
    "train_size = len(train_set)\n",
    "val_size = len(val_set)\n",
    "test_size = len(test_set)"
   ]
  },
  {
   "cell_type": "markdown",
   "metadata": {
    "colab_type": "text",
    "id": "z0RaAOKXP5MK"
   },
   "source": [
    "## 学習"
   ]
  },
  {
   "cell_type": "code",
   "execution_count": null,
   "metadata": {
    "colab": {
     "base_uri": "https://localhost:8080/",
     "height": 600
    },
    "colab_type": "code",
    "executionInfo": {
     "elapsed": 1654106,
     "status": "error",
     "timestamp": 1599561070616,
     "user": {
      "displayName": "Hayato Onoue",
      "photoUrl": "",
      "userId": "07486968416296706504"
     },
     "user_tz": -540
    },
    "id": "EZkA2ZvhWpG1",
    "outputId": "bf7a1b42-bccb-4d04-f022-f57e2bbfca71",
    "tags": []
   },
   "outputs": [],
   "source": [
    "start = time.time()\n",
    "model = Net().to(device)\n",
    "optimizer = torch.optim.Adam(model.parameters())\n",
    "# criterion = nn.MSELoss()\n",
    "criterion = KKLoss(K=K, L0=L0, eps=EPS)\n",
    "history = {\n",
    "    \"train_loss\": [],\n",
    "    \"val_loss\": [],\n",
    "}\n",
    "\n",
    "for epoch in range(epoch_num):\n",
    "    train_loss = 0.0\n",
    "    model.train()\n",
    "    for i, batch in enumerate(train_loader):\n",
    "        batch = batch.to(device)\n",
    "        optimizer.zero_grad()\n",
    "        prediction = model(batch)\n",
    "        loss = criterion(batch, prediction)\n",
    "        loss.backward()\n",
    "        optimizer.step()\n",
    "        train_loss += loss.cpu().item()\n",
    "\n",
    "        if i % 10 == 9:\n",
    "            progress_bar = (\n",
    "                \"[\"\n",
    "                + (\"=\" * ((i + 1) // 10))\n",
    "                + (\" \" * ((train_size // 100 - (i + 1)) // 10))\n",
    "                + \"]\"\n",
    "            )\n",
    "            print(\n",
    "                \"\\repoch: {:d} loss: {:.3f}  {}\".format(\n",
    "                    epoch + 1, loss.cpu().item(), progress_bar,\n",
    "                ),\n",
    "                end=\"  \",\n",
    "            )\n",
    "\n",
    "    print(\n",
    "        \"\\repoch: {:d} loss: {:.3f}\".format(\n",
    "            epoch + 1, train_loss / math.ceil(train_size / batch_size)\n",
    "        ),\n",
    "        end=\"  \",\n",
    "    )\n",
    "    history[\"train_loss\"].append(train_loss / math.ceil(train_size / batch_size))\n",
    "\n",
    "    batch_num = 0\n",
    "    loss = 0\n",
    "    with torch.no_grad():\n",
    "        model.eval()\n",
    "        for batch in val_loader:\n",
    "            batch = batch.to(device)\n",
    "            prediction = model(batch)\n",
    "            loss += criterion(batch, prediction)\n",
    "            batch_num += 1\n",
    "\n",
    "    history[\"val_loss\"].append(loss.cpu().item() / batch_num)\n",
    "    endstr = \" \" * max(1, (train_size // 1000 - 39)) + \"\\n\"\n",
    "    print(f\"Val Loss: {loss.cpu().item()/batch_num:.3f}\", end=endstr)\n",
    "\n",
    "print(\"Finished Training\")\n",
    "elapsed_time = time.time() - start\n",
    "print(\"elapsed time: {}\".format(datetime.timedelta(seconds=int(elapsed_time))))"
   ]
  },
  {
   "cell_type": "markdown",
   "metadata": {
    "colab_type": "text",
    "id": "HBkC2aF4eGH-"
   },
   "source": [
    "## 可視化"
   ]
  },
  {
   "cell_type": "code",
   "execution_count": null,
   "metadata": {
    "colab": {},
    "colab_type": "code",
    "id": "VN29VyfWeIh3"
   },
   "outputs": [],
   "source": [
    "# 損失\n",
    "plt.xlabel(\"epoch\")\n",
    "plt.ylabel(\"loss\")\n",
    "\n",
    "x = np.arange(epoch_num) + 1\n",
    "plt.plot(x, history[\"train_loss\"], label=\"train loss\")\n",
    "plt.plot(x, history[\"val_loss\"], label=\"val loss\")\n",
    "plt.legend()\n",
    "plt.show()"
   ]
  },
  {
   "cell_type": "code",
   "execution_count": null,
   "metadata": {
    "colab": {},
    "colab_type": "code",
    "id": "IDcfJAmtFP4u",
    "tags": []
   },
   "outputs": [],
   "source": [
    "# 頂点の描画\n",
    "test_index = 0\n",
    "nBeads = test_set[test_index].num_nodes\n",
    "node_list = list(range(nBeads))\n",
    "test_data = test_set[test_index].to(device)\n",
    "\n",
    "# テストデータのノードの座標を予想\n",
    "with torch.no_grad():\n",
    "    model.eval()\n",
    "    estimated_coords = model(test_data)\n",
    "\n",
    "# 描画のためのグラフを作成\n",
    "true_coords = test_data.pos.to(\"cpu\").detach().numpy().copy()\n",
    "\n",
    "G = torch_geometric.utils.to_networkx(\n",
    "    test_data,\n",
    "    node_attrs=[\"pos\"],\n",
    "    edge_attrs=[\"edge_attr\"],\n",
    "    to_undirected=True,)\n",
    "\n",
    "fig = plt.figure()\n",
    "\n",
    "ax1 = fig.add_subplot(1, 3, 1)\n",
    "ax1.set_title(\"True\")\n",
    "ax2 = fig.add_subplot(1, 3, 2)\n",
    "ax2.set_title(\"Estimated\")\n",
    "ax3 = fig.add_subplot(1, 3, 3)\n",
    "ax3.set_title(\"Kamada-Kawai\")\n",
    "\n",
    "true_pos = dict(zip(node_list, true_coords))\n",
    "nx.draw_networkx_nodes(G, pos=true_pos, ax=ax1, node_color=\"red\", node_size=2)\n",
    "estimated_pos = dict(zip(node_list, estimated_coords.cpu().detach().numpy()))\n",
    "nx.draw_networkx_nodes(G, pos=estimated_pos, ax=ax2, node_color=\"red\", node_size=2)\n",
    "KK_pos = nx.kamada_kawai_layout(G,pos=nx.random_layout(G, dim=2, seed=1), weight=\"edge_attr\", dim=2)\n",
    "nx.draw_networkx_nodes(G, pos=KK_pos, ax=ax3, node_color=\"red\", node_size=2)\n",
    "\n",
    "plt.show()\n",
    "\n",
    "print(\"Compare euclidean distance to graph distance\")\n",
    "dx = test_data.pos[:, [0]] - test_data.pos[:, 0]\n",
    "dy = test_data.pos[:, [1]] - test_data.pos[:, 1]\n",
    "euclidean_dist = torch.sqrt(dx ** 2 + dy ** 2)\n",
    "\n",
    "print(\"(i,j): (euclidean_dist, weighted_dist, unweghted_dist)\")\n",
    "indices = np.random.randint(test_data.num_nodes, size=(10, 2))\n",
    "for index in indices:\n",
    "    index = tuple(index)\n",
    "    print(\"{}:, ({}, {}, {})\".format(\n",
    "        index,\n",
    "        euclidean_dist[index],\n",
    "        test_data.weighted_dist.view(test_data.num_nodes, test_data.num_nodes)[index],\n",
    "        test_data.unweighted_dist.view(test_data.num_nodes, test_data.num_nodes)[index],\n",
    "    ))\n",
    "\n",
    "print()\n",
    "print(\"Compare to the energy of Kamada Kawai\")\n",
    "if is_weighted:\n",
    "    test_data.dist = test_data.weighted_dist\n",
    "else:\n",
    "    test_data.edge_attr = None\n",
    "    test_data.dist = test_data.unweighted_dist\n",
    "del test_data.weighted_dist, test_data.unweighted_dist\n",
    "\n",
    "KK_coords = torch.tensor(list(KK_pos.values()), dtype=torch.float).to(device)\n",
    "print(\"Loss of estimation, Loss of Kamada-Kawai\")\n",
    "print(\n",
    "    criterion(Batch.from_data_list([test_data]), estimated_coords),\n",
    "    criterion(Batch.from_data_list([test_data]), KK_coords)\n",
    ")"
   ]
  },
  {
   "cell_type": "markdown",
   "metadata": {
    "colab_type": "text",
    "id": "kjiew9tRNVqJ"
   },
   "source": [
    "## 実験条件"
   ]
  },
  {
   "cell_type": "code",
   "execution_count": null,
   "metadata": {
    "colab": {},
    "colab_type": "code",
    "id": "RejyDDxdNVqK",
    "pycharm": {
     "name": "#%%\n"
    },
    "tags": []
   },
   "outputs": [],
   "source": [
    "t = 20\n",
    "drop_probability = 0.01\n",
    "mean = 0\n",
    "pow_ = -1.0\n",
    "\n",
    "print(\"=====Simulation conditions=====\")\n",
    "print(\"目的：隣接町列を生成した数字の予測\")\n",
    "print(\"ネットワーク：GCNN\")\n",
    "print(\"Test run: {}\".format(is_trial))\n",
    "\n",
    "print(\"Probabirity of edge drop: {}\".format(drop_probability))\n",
    "print(\"Pow: {}\".format(pow_))\n",
    "print(\"Info about normal distribution: mean: {}, sigma: {}\".format(mean, sigma))\n",
    "\n",
    "print(\"Number of beads: {}\".format(nBeads))\n",
    "print(\"Number of samples for training: {}\".format(train_size))\n",
    "\n",
    "print(\"Number of epochs: {}\".format(epoch_num))\n",
    "print(\"Batch size: {}\".format(batch_size))\n",
    "print(\"Diffusion time: {}\".format(t))\n",
    "\n",
    "print(\"=====Results=====\")\n",
    "print(\"elapsed time: {}\".format(datetime.timedelta(seconds=int(elapsed_time))))"
   ]
  },
  {
   "cell_type": "code",
   "execution_count": null,
   "outputs": [],
   "source": [],
   "metadata": {
    "collapsed": false,
    "pycharm": {
     "name": "#%%\n"
    }
   }
  }
 ],
 "metadata": {
  "accelerator": "GPU",
  "colab": {
   "collapsed_sections": [],
   "name": "reconstruction.ipynb",
   "provenance": [],
   "toc_visible": true
  },
  "kernelspec": {
   "display_name": "Python 3",
   "language": "python",
   "name": "python3"
  },
  "language_info": {
   "codemirror_mode": {
    "name": "ipython",
    "version": 3
   },
   "file_extension": ".py",
   "mimetype": "text/x-python",
   "name": "python",
   "nbconvert_exporter": "python",
   "pygments_lexer": "ipython3",
   "version": "3.8.5-final"
  }
 },
 "nbformat": 4,
 "nbformat_minor": 4
}