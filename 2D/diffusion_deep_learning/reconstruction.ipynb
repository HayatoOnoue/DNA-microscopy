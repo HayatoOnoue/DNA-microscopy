{
 "cells": [
  {
   "cell_type": "markdown",
   "metadata": {
    "colab_type": "text",
    "id": "VXEnmFmUpHvj"
   },
   "source": [
    "# GCNNによって隣接行列からノードの座標の予測する"
   ]
  },
  {
   "cell_type": "markdown",
   "metadata": {},
   "source": [
    "## ライブラリのインポート"
   ]
  },
  {
   "cell_type": "code",
   "execution_count": null,
   "metadata": {
    "colab": {},
    "colab_type": "code",
    "id": "PhVO0ABfv1r1"
   },
   "outputs": [],
   "source": [
    "import datetime\n",
    "import math\n",
    "import os\n",
    "import os.path as osp\n",
    "import random\n",
    "import time\n",
    "\n",
    "import numpy as np\n",
    "from scipy.io import mmread\n",
    "from matplotlib import pyplot as plt\n",
    "import networkx as nx\n",
    "from natsort import natsorted\n",
    "from sklearn.model_selection import train_test_split\n",
    "from joblib import Parallel, delayed\n",
    "\n",
    "import torch\n",
    "import torch.nn as nn\n",
    "import torch.nn.functional as F\n",
    "\n",
    "from torch_geometric.data import Data, DataLoader, Dataset, InMemoryDataset\n",
    "from torch_geometric.nn import GCNConv\n",
    "from torch_geometric.transforms import Compose\n",
    "from torch_scatter import scatter\n",
    "\n",
    "# random seed\n",
    "torch.manual_seed(1234)\n",
    "np.random.seed(1234)\n",
    "random.seed(1234)\n",
    "\n",
    "device = torch.device(\"cuda:0\" if torch.cuda.is_available() else \"cpu\")\n",
    "print(\"device:\", device)"
   ]
  },
  {
   "cell_type": "markdown",
   "metadata": {},
   "source": [
    "## 変数の設定"
   ]
  },
  {
   "cell_type": "code",
   "execution_count": null,
   "metadata": {},
   "outputs": [],
   "source": [
    "test_run = True\n",
    "use_InMemoryDataset = True\n",
    "add_noise = True\n",
    "drop_probability = 0.01\n",
    "mean, sigma = 0, 1\n",
    "pow_ = -1.0\n",
    "\n",
    "n_jobs = int(os.cpu_count() * 0.8)\n",
    "\n",
    "data_size_type = \"small_\" if test_run else \"large_\"\n",
    "Dataset_type = \"InMemoryDataset\" if use_InMemoryDataset else \"Dataset\"\n",
    "root = osp.join(\"data\", data_size_type + \"reconstruction_\" + Dataset_type)\n",
    "\n",
    "if test_run:\n",
    "    epoch_num = 10\n",
    "    batch_size = 128\n",
    "else:\n",
    "    epoch_num = 100\n",
    "    batch_size = 128\n",
    "\n",
    "print(\"n_jobs = {}\".format(n_jobs))   "
   ]
  },
  {
   "cell_type": "markdown",
   "metadata": {},
   "source": [
    "## Dataオブジェクトを作成する関数"
   ]
  },
  {
   "cell_type": "code",
   "execution_count": null,
   "metadata": {},
   "outputs": [],
   "source": [
    "def drop_edge(data, prob=0.01):\n",
    "    mask = np.where(np.random.rand(int(data.num_edges / 2)) > prob, True, False)\n",
    "    mask = np.concatenate((mask, mask), axis=0)\n",
    "    data.edge_index = data.edge_index[:, mask]\n",
    "    data.edge_attr = data.edge_attr[mask]\n",
    "    return data\n",
    "\n",
    "\n",
    "def multiply_lognormal_noise(data, mean=0, sigma=1):\n",
    "    size = np.array(data.edge_attr.shape)\n",
    "    size[0] /= 2\n",
    "    lognormals = torch.tensor(\n",
    "        np.random.lognormal(mean=mean, sigma=sigma, size=size)\n",
    "    ).float()\n",
    "    data.edge_attr = data.edge_attr * torch.cat((lognormals, lognormals), 0)\n",
    "    return data\n",
    "\n",
    "\n",
    "def invert_edge_attr(data, pow_):\n",
    "    data.edge_attr = data.edge_attr ** pow_\n",
    "    return data\n",
    "\n",
    "\n",
    "def load_graphs(adj_coo_mats, coords_ndas, i):\n",
    "    num_beads = int(np.sqrt(adj_coo_mats.shape[1]))\n",
    "    # convert each row of raw data to adj\n",
    "    adj_coo = adj_coo_mats.getrow(i).reshape(num_beads, num_beads)\n",
    "    # convert each row of raw data to coords\n",
    "    coords_nda = coords_ndas[i, :].reshape(num_beads, -1)\n",
    "    \n",
    "    num_edges = adj_coo.nnz\n",
    "    nnf = 1  ## nnf: num_node_features\n",
    "\n",
    "    src, dst = np.array(adj_coo.row), np.array(adj_coo.col)\n",
    "    edge_attr = np.array(adj_coo.data.reshape(num_edges, -1))\n",
    "    mask = np.where(src > dst, True, False)\n",
    "    edge_index_L = np.array([src[mask], dst[mask]])\n",
    "    edge_attr_L = np.array(edge_attr[mask])    \n",
    "    edge_index = np.concatenate((edge_index_L, edge_index_L[[1, 0]]), axis=1)\n",
    "    edge_attr = np.concatenate((edge_attr_L, edge_attr_L), axis=0)\n",
    "\n",
    "    data = Data(\n",
    "        x=torch.ones((num_beads, nnf)).float(),\n",
    "        edge_index=torch.tensor(edge_index, dtype=torch.long),\n",
    "        edge_attr=torch.tensor(edge_attr).float(),\n",
    "        pos=torch.tensor(coords_nda).float(),\n",
    "    )\n",
    "\n",
    "    return data"
   ]
  },
  {
   "cell_type": "markdown",
   "metadata": {
    "colab_type": "text",
    "id": "T2O2r6c7vFPo"
   },
   "source": [
    "## ネットワークの定義"
   ]
  },
  {
   "cell_type": "code",
   "execution_count": null,
   "metadata": {},
   "outputs": [],
   "source": [
    "class Net(torch.nn.Module):\n",
    "    def __init__(self):\n",
    "        super(Net, self).__init__()\n",
    "        # TODO: 入力グラフのチャネル数への依存をなくす\n",
    "        self.conv1 = GCNConv(1, 16)\n",
    "        self.conv2 = GCNConv(16, 32)\n",
    "        self.conv3 = GCNConv(32, 48)\n",
    "        self.conv4 = GCNConv(48, 64)\n",
    "        self.conv5 = GCNConv(64, 96)\n",
    "        self.conv6 = GCNConv(96, 128)\n",
    "        self.linear1 = torch.nn.Linear(128, 64)\n",
    "        # TODO: 分類数への依存をなくす\n",
    "        self.linear2 = torch.nn.Linear(64, 2)\n",
    "\n",
    "    def forward(self, data):\n",
    "        x, edge_index = data.x, data.edge_index\n",
    "\n",
    "        # edge_weightとして用いるedge_attrのshapeが(n,1)だとうまくいかない．\n",
    "        # edge_attr.shapeが(n,)だと動く．おそらくPyG側のバグ？\n",
    "        edge_weight = torch.squeeze(data.edge_attr)\n",
    "        x = self.conv1(x, edge_index, edge_weight)\n",
    "        x = F.relu(x)\n",
    "        x = self.conv2(x, edge_index, edge_weight)\n",
    "        x = F.relu(x)\n",
    "        x = self.conv3(x, edge_index, edge_weight)\n",
    "        x = F.relu(x)\n",
    "        x = self.conv4(x, edge_index, edge_weight)\n",
    "        x = F.relu(x)\n",
    "        x = self.conv5(x, edge_index, edge_weight)\n",
    "        x = F.relu(x)\n",
    "        x = self.conv6(x, edge_index, edge_weight)\n",
    "        x = F.relu(x)\n",
    "\n",
    "        x = self.linear1(x)\n",
    "        x = F.relu(x)\n",
    "        x = self.linear2(x)\n",
    "        return x"
   ]
  },
  {
   "cell_type": "markdown",
   "metadata": {},
   "source": [
    "## データの読み込み"
   ]
  },
  {
   "cell_type": "code",
   "execution_count": null,
   "metadata": {},
   "outputs": [],
   "source": [
    "start = time.time()\n",
    "\n",
    "adj_path = osp.join(root, \"raw\", \"adjMats.mtx\")\n",
    "coords_path = osp.join(root, \"raw\", \"coords.mtx\")\n",
    "\n",
    "print(\"Reading graphs from {}\".format(root))\n",
    "\n",
    "adj_coo_mats = mmread(adj_path)\n",
    "coords_ndas = mmread(coords_path)\n",
    "num_samples = adj_coo_mats.shape[0]\n",
    "data_list = []\n",
    "\n",
    "elapsed_time = time.time() - start\n",
    "\n",
    "print(\"Finish reading graphs from storage.\")\n",
    "print(\"elapsed time: {}\".format(datetime.timedelta(seconds=int(elapsed_time))))\n",
    "print(\"num_samples: {}\".format(num_samples))"
   ]
  },
  {
   "cell_type": "markdown",
   "metadata": {},
   "source": [
    "## DataLoaderの作成"
   ]
  },
  {
   "cell_type": "code",
   "execution_count": null,
   "metadata": {},
   "outputs": [],
   "source": [
    "start = time.time()\n",
    "\n",
    "print(\"Generating Data object\")\n",
    "\n",
    "data_list = Parallel(n_jobs=n_jobs)([delayed(load_graphs)(\n",
    "        adj_coo_mats=adj_coo_mats,\n",
    "        coords_ndas=coords_ndas,\n",
    "        i=i\n",
    "    ) for i in range(num_samples)])\n",
    "\n",
    "print(\"Post-processing\")       \n",
    "\n",
    "if add_noise:\n",
    "    print(\"Dropping edges\")\n",
    "    \n",
    "    data_list = Parallel(n_jobs=n_jobs)([delayed(drop_edge)(\n",
    "        data=data,\n",
    "        prob=drop_probability\n",
    "    ) for data in data_list])\n",
    "\n",
    "    print(\"Adding noise\")\n",
    "\n",
    "    data_list = Parallel(n_jobs=n_jobs)([delayed(multiply_lognormal_noise)(\n",
    "        data=data,\n",
    "        mean=mean,\n",
    "        sigma=sigma\n",
    "    ) for data in data_list])\n",
    "\n",
    "print(\"Inverting edge_attr\")\n",
    "\n",
    "data_list = Parallel(n_jobs=n_jobs)([delayed(invert_edge_attr)(\n",
    "        data=data,\n",
    "        pow_=pow_\n",
    "    ) for data in data_list])\n",
    "\n",
    "print(\"Finish post-processing!\")\n",
    "\n",
    "val_ratio = 0.1\n",
    "test_ratio = 0.1\n",
    "val_size = round(num_samples * val_ratio)\n",
    "test_size = round(num_samples * test_ratio)\n",
    "train_size = num_samples - val_size - test_size\n",
    "cums = np.array([train_size, val_size, test_size]).cumsum()\n",
    "random.shuffle(data_list)\n",
    "\n",
    "train_data = data_list[0:cums[0]]\n",
    "val_data = data_list[cums[0]:cums[1]]\n",
    "test_data = data_list[cums[1]:cums[2]]\n",
    "\n",
    "train_loader = DataLoader(train_data, batch_size=batch_size)\n",
    "val_loader = DataLoader(val_data, batch_size=batch_size)\n",
    "test_loader = DataLoader(test_data, batch_size=batch_size)\n",
    "\n",
    "nBeads = train_data[0].num_nodes\n",
    "nDim = train_data[0].pos.shape[1]  ## 各頂点の座標の次数\n",
    "\n",
    "elapsed_time = time.time() - start\n",
    "print(\"elapsed time: {}\".format(datetime.timedelta(seconds=int(elapsed_time))))"
   ]
  },
  {
   "cell_type": "markdown",
   "metadata": {
    "colab_type": "text",
    "id": "z0RaAOKXP5MK"
   },
   "source": [
    "## 学習"
   ]
  },
  {
   "cell_type": "code",
   "execution_count": null,
   "metadata": {
    "colab": {
     "base_uri": "https://localhost:8080/",
     "height": 1000
    },
    "colab_type": "code",
    "executionInfo": {
     "elapsed": 161331,
     "status": "ok",
     "timestamp": 1594717726701,
     "user": {
      "displayName": "Hayato Onoue",
      "photoUrl": "",
      "userId": "07486968416296706504"
     },
     "user_tz": -540
    },
    "id": "EZkA2ZvhWpG1",
    "outputId": "76d9c5bf-cb6d-447b-c6b9-d0dfde5471d8"
   },
   "outputs": [],
   "source": [
    "start = time.time()\n",
    "model = Net().to(device)\n",
    "optimizer = torch.optim.Adam(model.parameters())\n",
    "criterion = nn.MSELoss()\n",
    "history = {\n",
    "    \"train_loss\": [],\n",
    "    \"val_loss\": [],\n",
    "}\n",
    "\n",
    "for epoch in range(epoch_num):\n",
    "    train_loss = 0.0\n",
    "    model.train()\n",
    "    for i, batch in enumerate(train_loader):\n",
    "        batch = batch.to(device)\n",
    "        optimizer.zero_grad()\n",
    "        prediction = model(batch)\n",
    "\n",
    "        loss = criterion(prediction, batch.pos)\n",
    "        loss.backward()\n",
    "        optimizer.step()\n",
    "\n",
    "        train_loss += loss.cpu().item() * nDim\n",
    "        if i % 10 == 9:\n",
    "            progress_bar = (\n",
    "                \"[\"\n",
    "                + (\"=\" * ((i + 1) // 10))\n",
    "                + (\" \" * ((train_size // 100 - (i + 1)) // 10))\n",
    "                + \"]\"\n",
    "            )\n",
    "            print(\n",
    "                \"\\repoch: {:d} loss: {:.3f}  {}\".format(\n",
    "                    epoch + 1,\n",
    "                    loss.cpu().item() * nDim,  # 表示するlossはノード間の距離の二条の平均\n",
    "                    progress_bar,\n",
    "                ),\n",
    "                end=\"  \",\n",
    "            )\n",
    "\n",
    "    print(\n",
    "        \"\\repoch: {:d} loss: {:.3f}\".format(\n",
    "            epoch + 1, train_loss / math.ceil(train_size / batch_size)\n",
    "        ),\n",
    "        end=\"  \",\n",
    "    )\n",
    "    history[\"train_loss\"].append(train_loss / math.ceil(train_size / batch_size))\n",
    "\n",
    "    batch_num = 0\n",
    "    loss = 0\n",
    "    with torch.no_grad():\n",
    "        model.eval()\n",
    "        for data in val_loader:\n",
    "            data = data.to(device)\n",
    "            prediction = model(data)\n",
    "            loss += criterion(prediction, data.pos) * nDim\n",
    "            batch_num += 1\n",
    "\n",
    "    history[\"val_loss\"].append(loss.cpu().item() / batch_num)\n",
    "    endstr = \" \" * max(1, (train_size // 1000 - 39)) + \"\\n\"\n",
    "    print(f\"Val Loss: {loss.cpu().item()/batch_num:.3f}\", end=endstr)\n",
    "\n",
    "\n",
    "print(\"Finished Training\")\n",
    "elapsed_time = time.time() - start\n",
    "print(\"elapsed time: {}\".format(datetime.timedelta(seconds=int(elapsed_time))))"
   ]
  },
  {
   "cell_type": "markdown",
   "metadata": {
    "colab_type": "text",
    "id": "HBkC2aF4eGH-"
   },
   "source": [
    "## 可視化"
   ]
  },
  {
   "cell_type": "code",
   "execution_count": null,
   "metadata": {
    "colab": {
     "base_uri": "https://localhost:8080/",
     "height": 279
    },
    "colab_type": "code",
    "executionInfo": {
     "elapsed": 1712,
     "status": "ok",
     "timestamp": 1594718171173,
     "user": {
      "displayName": "Hayato Onoue",
      "photoUrl": "",
      "userId": "07486968416296706504"
     },
     "user_tz": -540
    },
    "id": "VN29VyfWeIh3",
    "outputId": "fa64a6c9-ae06-4683-afb0-d396c0935111"
   },
   "outputs": [],
   "source": [
    "# 損失\n",
    "plt.xlabel(\"epoch\")\n",
    "plt.ylabel(\"loss\")\n",
    "\n",
    "x = np.arange(epoch_num) + 1\n",
    "plt.plot(x, history[\"train_loss\"], label=\"train loss\")\n",
    "plt.plot(x, history[\"val_loss\"], label=\"val loss\")\n",
    "plt.legend()\n",
    "plt.show()"
   ]
  },
  {
   "cell_type": "code",
   "execution_count": null,
   "metadata": {
    "colab": {},
    "colab_type": "code",
    "id": "IDcfJAmtFP4u"
   },
   "outputs": [],
   "source": [
    "# 頂点の描画\n",
    "t_index = 0\n",
    "\n",
    "node_list = list(range(nBeads))\n",
    "\n",
    "test_data = test_data[t_index].to(device)\n",
    "\n",
    "# テストデータのノードの座標を予想\n",
    "with torch.no_grad():\n",
    "    model.eval()\n",
    "    estimated_coords = model(test_data)\n",
    "\n",
    "# 描画のためのグラフを作成\n",
    "test_edge_indices = torch.t(test_data.edge_index).to(\"cpu\").detach().numpy()\n",
    "true_coords = test_data.pos.to(\"cpu\").detach().numpy().copy()\n",
    "\n",
    "G = nx.Graph()\n",
    "G.add_nodes_from(node_list)\n",
    "G.add_edges_from(test_edge_indices)\n",
    "\n",
    "fig = plt.figure()\n",
    "\n",
    "ax1 = fig.add_subplot(1, 2, 1)\n",
    "ax1.set_title(\"True\")\n",
    "ax2 = fig.add_subplot(1, 2, 2)\n",
    "ax2.set_title(\"Estimated\")\n",
    "\n",
    "true_pos = dict(zip(node_list, true_coords))\n",
    "# nx.draw_networkx(G, pos=true_pos, with_labels=False, ax=ax1,\n",
    "#                 node_color=\"red\", node_size=2)\n",
    "nx.draw_networkx_nodes(G, pos=true_pos, ax=ax1, node_color=\"red\", node_size=2)\n",
    "\n",
    "estimated_pos = dict(zip(node_list, estimated_coords.cpu().detach().numpy()))\n",
    "# nx.draw_networkx(G, pos=estimated_pos, with_labels=False, ax=ax2,\n",
    "#                 node_color=\"red\", node_size=2)\n",
    "nx.draw_networkx_nodes(G, pos=estimated_pos, ax=ax2, node_color=\"red\", node_size=2)\n",
    "\n",
    "plt.show()"
   ]
  },
  {
   "cell_type": "markdown",
   "metadata": {},
   "source": [
    "## 実験条件"
   ]
  },
  {
   "cell_type": "code",
   "execution_count": null,
   "metadata": {},
   "outputs": [],
   "source": [
    "t = 20\n",
    "\n",
    "print(\"=====Simulation conditions=====\")\n",
    "print(\"目的：隣接町列を生成した数字の予測\")\n",
    "print(\"ネットワーク：GCNN\")\n",
    "print(\"Test run: {}\".format(test_run))\n",
    "print(\"Add noise: {}\".format(add_noise))\n",
    "if add_noise:\n",
    "    print(\"Probabirity of edge drop: {}\".format(drop_probability))\n",
    "    print(\"Info about normal distribution: mean: {}, sigma: {}\".format(mean, sigma))\n",
    "    print(\"Pow: {}\".format(pow_))\n",
    "print(\"Number of beads: {}\".format(nBeads))\n",
    "print(\"Number of samples for training: {}\".format(train_size))\n",
    "print(\"Add noise: {}\".format(add_noise))\n",
    "print(\"Number of epochs: {}\".format(epoch_num))\n",
    "print(\"Batch size: {}\".format(batch_size))\n",
    "print(\"Diffusion time: {}\".format(t))\n",
    "\n",
    "print(\"=====Results=====\")\n",
    "print(\"elapsed time: {}\".format(datetime.timedelta(seconds=int(elapsed_time))))"
   ]
  },
  {
   "cell_type": "code",
   "execution_count": null,
   "metadata": {},
   "outputs": [],
   "source": []
  }
 ],
 "metadata": {
  "accelerator": "GPU",
  "colab": {
   "collapsed_sections": [
    "vgRFgRRheDVI"
   ],
   "name": "adj2coords_GCN_PyG.ipynb",
   "provenance": [],
   "toc_visible": true
  },
  "kernelspec": {
   "display_name": "Python 3",
   "language": "python",
   "name": "python3"
  },
  "language_info": {
   "codemirror_mode": {
    "name": "ipython",
    "version": 3
   },
   "file_extension": ".py",
   "mimetype": "text/x-python",
   "name": "python",
   "nbconvert_exporter": "python",
   "pygments_lexer": "ipython3",
   "version": "3.8.3"
  }
 },
 "nbformat": 4,
 "nbformat_minor": 4
}
