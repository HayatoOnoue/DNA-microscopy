{
 "cells": [
  {
   "cell_type": "markdown",
   "metadata": {
    "colab_type": "text",
    "id": "VXEnmFmUpHvj"
   },
   "source": [
    "# GCNNによる隣接行列の分類"
   ]
  },
  {
   "cell_type": "markdown",
   "metadata": {},
   "source": [
    "## ライブラリのインポート，変数の設定"
   ]
  },
  {
   "cell_type": "code",
   "execution_count": 1,
   "metadata": {},
   "outputs": [],
   "source": [
    "from matplotlib import pyplot as plt\n",
    "import numpy as np\n",
    "import time\n",
    "import datetime\n",
    "from scipy.io import mmread\n",
    "import random\n",
    "import networkx as nx\n",
    "import math\n",
    "import os\n",
    "import os.path as osp\n",
    "from natsort import natsorted\n",
    "\n",
    "import torch\n",
    "import torch.nn as nn\n",
    "import torch.nn.functional as F\n",
    "\n",
    "from torch_geometric.nn import GCNConv\n",
    "from torch_geometric.data import Data, Dataset, DataLoader\n",
    "from torch_geometric.transforms import Compose\n",
    "from torch_scatter import  scatter\n",
    "\n",
    "# random seed\n",
    "torch.manual_seed(1234)\n",
    "np.random.seed(1234)\n",
    "random.seed(1234)"
   ]
  },
  {
   "cell_type": "code",
   "execution_count": 2,
   "metadata": {},
   "outputs": [],
   "source": [
    "test_run = True\n",
    "add_noise = True\n",
    "\n",
    "if test_run:\n",
    "    # プログラムが動くかどうかのテスト用の小さいデータ\n",
    "    train_root = osp.join(\"small_data_class\",\"train\")\n",
    "    val_root = osp.join(\"small_data_class\",\"val\")\n",
    "    test_root = osp.join(\"small_data_class\",\"test\")\n",
    "    \n",
    "    epoch_num = 3\n",
    "    batch_size = 128\n",
    "else:\n",
    "    # 本番用データ   \n",
    "    train_root = osp.join(\"data_class\",\"train\")\n",
    "    val_root = osp.join(\"data_class\",\"val\")\n",
    "    test_root = osp.join(\"data_class\",\"test\")    \n",
    "    \n",
    "    epoch_num = 100\n",
    "    batch_size = 128"
   ]
  },
  {
   "cell_type": "markdown",
   "metadata": {
    "colab_type": "text",
    "id": "W7SiDY1Ap-uh"
   },
   "source": [
    "## データの用意"
   ]
  },
  {
   "cell_type": "code",
   "execution_count": 14,
   "metadata": {},
   "outputs": [],
   "source": [
    "class EdgeAttrInvert():\n",
    "    r\"\"\"raise edge_attr to the power p\"\"\"\n",
    "    def __init__(self,p=-1.0):\n",
    "        self.p = p\n",
    "        \n",
    "    def __call__(self, data):\n",
    "        data.edge_attr = data.edge_attr**self.p\n",
    "        return data\n",
    "\n",
    "    def __repr__(self):\n",
    "        return '{}()'.format(self.__class__.__name__)\n",
    "\n",
    "    \n",
    "class MyOwnDataset(Dataset):\n",
    "    \n",
    "    processed_file_name = 'data_{}.pt'\n",
    "    \n",
    "    def __init__(self, root, transform=None, pre_transform=None):\n",
    "        super(MyOwnDataset, self).__init__(root, transform, pre_transform)\n",
    "\n",
    "    @property\n",
    "    def processed_file_names(self):\n",
    "        num_graph = len(os.listdir(osp.join(self.raw_dir,\"adjs\")))\n",
    "        return [self.processed_file_name.format(i) for i in range(num_graph)]\n",
    "\n",
    "    def process(self):\n",
    "        adj_file_names = natsorted(os.listdir(osp.join(self.raw_dir,\"adjs\")))\n",
    "        class_file_names = natsorted(os.listdir(osp.join(self.raw_dir,\"classes\")))\n",
    "        \n",
    "        for i, (adj_file_name,class_file_name) in enumerate(zip(adj_file_names,class_file_names)):\n",
    "            adj_coo = mmread(osp.join(self.raw_dir, \"adjs\", adj_file_name))\n",
    "            #class_id = mmread(osp.join(self.raw_dir, \"classes\", class_file_name)).toarray()[0,0]\n",
    "            class_id = mmread(osp.join(self.raw_dir, \"classes\", class_file_name))[0,0]\n",
    "            \n",
    "            num_beads = adj_coo.shape[0]\n",
    "            num_edges = adj_coo.nnz\n",
    "            nnf = 1  ## nnf: num_node_features\n",
    "            \n",
    "            data = Data(\n",
    "                x=torch.ones((num_beads, nnf)).float(),\n",
    "                edge_index=torch.tensor([adj_coo.row, adj_coo.col], dtype=torch.long),\n",
    "                edge_attr=torch.tensor(adj_coo.data.reshape(num_edges, -1)).float(),\n",
    "                y=torch.tensor(class_id, dtype=torch.long)\n",
    "            )\n",
    "                        \n",
    "            \n",
    "            if self.pre_filter is not None and not self.pre_filter(data):\n",
    "                continue\n",
    "\n",
    "            if self.pre_transform is not None:\n",
    "                data = self.pre_transform(data)\n",
    "            \n",
    "            \n",
    "            torch.save(data, osp.join(self.processed_dir, self.processed_file_name.format(i)))\n",
    "\n",
    "        \n",
    "    def len(self):\n",
    "        return len(self.processed_file_names)\n",
    "\n",
    "    def get(self, idx):\n",
    "        data = torch.load(osp.join(self.processed_dir, 'data_{}.pt'.format(idx)))\n",
    "        return data"
   ]
  },
  {
   "cell_type": "code",
   "execution_count": 15,
   "metadata": {},
   "outputs": [
    {
     "name": "stdout",
     "output_type": "stream",
     "text": [
      "Processing...\n",
      "Done!\n",
      "Processing...\n",
      "Done!\n",
      "Processing...\n",
      "Done!\n"
     ]
    }
   ],
   "source": [
    "eai = EdgeAttrInvert(p=-1.0)\n",
    "my_transform = Compose([eai])\n",
    "\n",
    "train_set = MyOwnDataset(train_root,transform=my_transform)\n",
    "val_set = MyOwnDataset(val_root,transform=my_transform)\n",
    "test_set = MyOwnDataset(test_root,transform=my_transform)\n",
    "\n",
    "train_loader = DataLoader(train_set, batch_size=batch_size)\n",
    "val_loader = DataLoader(val_set, batch_size=batch_size)\n",
    "test_loader = DataLoader(test_set, batch_size=batch_size)"
   ]
  },
  {
   "cell_type": "markdown",
   "metadata": {
    "colab_type": "text",
    "id": "KrYnvRj-KHPF"
   },
   "source": [
    "## ネットワークの定義"
   ]
  },
  {
   "cell_type": "code",
   "execution_count": 16,
   "metadata": {
    "colab": {},
    "colab_type": "code",
    "id": "TOPTkv2urfVk"
   },
   "outputs": [],
   "source": [
    "class Net(torch.nn.Module):\n",
    "    def __init__(self):\n",
    "        super(Net, self).__init__()\n",
    "        #TODO: 入力グラフのチャネル数への依存をなくす\n",
    "        self.conv1 = GCNConv(1, 16)\n",
    "        self.conv2 = GCNConv(16, 32)\n",
    "        self.conv3 = GCNConv(32, 48)\n",
    "        self.conv4 = GCNConv(48, 64)\n",
    "        self.conv5 = GCNConv(64, 96)\n",
    "        self.conv6 = GCNConv(96, 128)\n",
    "        self.linear1 = torch.nn.Linear(128,64)\n",
    "        #TODO: 分類数への依存をなくす\n",
    "        self.linear2 = torch.nn.Linear(64,9)\n",
    "\n",
    "    def forward(self, data):\n",
    "        x, edge_index = data.x, data.edge_index\n",
    "        \n",
    "        #edge_weightとして用いるedge_attrのshapeが(n,1)だとうまくいかない．\n",
    "        #edge_attr.shapeが(n,)だと動く．おそらくPyG側のバグ？\n",
    "        #edge_weight = data.edge_attr\n",
    "        edge_weight = torch.squeeze(data.edge_attr)\n",
    "        x = self.conv1(x, edge_index, edge_weight)\n",
    "        x = F.relu(x)\n",
    "        x = self.conv2(x, edge_index, edge_weight)\n",
    "        x = F.relu(x)\n",
    "        x = self.conv3(x, edge_index, edge_weight)\n",
    "        x = F.relu(x)\n",
    "        x = self.conv4(x, edge_index, edge_weight)\n",
    "        x = F.relu(x)\n",
    "        x = self.conv5(x, edge_index, edge_weight)\n",
    "        x = F.relu(x)\n",
    "        x = self.conv6(x, edge_index, edge_weight)\n",
    "        x = F.relu(x)\n",
    "\n",
    "        x = scatter(x, data.batch, dim=0, reduce=\"max\")\n",
    "        x = self.linear1(x)\n",
    "        x = F.relu(x)\n",
    "        x = self.linear2(x)\n",
    "        return x"
   ]
  },
  {
   "cell_type": "markdown",
   "metadata": {
    "colab_type": "text",
    "id": "z0RaAOKXP5MK"
   },
   "source": [
    "## 学習"
   ]
  },
  {
   "cell_type": "code",
   "execution_count": 17,
   "metadata": {
    "colab": {
     "base_uri": "https://localhost:8080/",
     "height": 1000
    },
    "colab_type": "code",
    "executionInfo": {
     "elapsed": 192239,
     "status": "ok",
     "timestamp": 1594711504547,
     "user": {
      "displayName": "Hayato Onoue",
      "photoUrl": "",
      "userId": "07486968416296706504"
     },
     "user_tz": -540
    },
    "id": "A2IH_RUHPo7E",
    "outputId": "629436ed-26e4-4a53-e6ae-06082b38b2f4"
   },
   "outputs": [
    {
     "name": "stdout",
     "output_type": "stream",
     "text": [
      "device: cpu\n",
      "epoch: 1 loss: 3.911  Val Accuracy: 11.11 %  Val Loss: 2.199 \n",
      "epoch: 2 loss: 3.910  Val Accuracy: 11.11 %  Val Loss: 2.199 \n",
      "epoch: 3 loss: 3.909  Val Accuracy: 11.11 %  Val Loss: 2.199 \n",
      "Finished Training\n",
      "elapsed time: 0:00:00\n",
      "Test Accuracy: 11.11 %\n"
     ]
    }
   ],
   "source": [
    "start = time.time()\n",
    "\n",
    "# GPUの使用\n",
    "device = torch.device(\"cuda:0\" if torch.cuda.is_available() else \"cpu\")\n",
    "print(\"device:\", device)\n",
    "\n",
    "train_size = len(train_set)\n",
    "val_size = len(val_set)\n",
    "test_size = len(test_set)\n",
    "\n",
    "model = Net().to(device)\n",
    "\n",
    "optimizer = torch.optim.Adam(model.parameters())\n",
    "\n",
    "criterion = nn.CrossEntropyLoss()\n",
    "\n",
    "history = {\n",
    "    \"train_loss\": [],\n",
    "    \"train_acc\": [],\n",
    "    \"val_loss\": [],\n",
    "    \"val_acc\": []\n",
    "}\n",
    "\n",
    "model.train()\n",
    "for epoch in range(epoch_num):\n",
    "    train_correct = 0\n",
    "    train_total = 0\n",
    "    train_loss = 0.0\n",
    "    for i, batch in enumerate(train_loader):\n",
    "        batch = batch.to(device)\n",
    "        optimizer.zero_grad()\n",
    "        outputs = model(batch)\n",
    "        loss = criterion(outputs, batch.y - 1)  ## 1th indexed -> 0th indexed\n",
    "        loss.backward()\n",
    "        optimizer.step()\n",
    "        \n",
    "        predicted = torch.max(outputs, 1)[1] + 1  ## 0th indexed -> 1th indexed\n",
    "        train_total += batch.y.size(0)\n",
    "        train_correct += (predicted == batch.y).sum().cpu().item()\n",
    "\n",
    "        train_loss += loss.cpu().item()\n",
    "        if i % 10 == 9:\n",
    "            progress_bar = '['+('='*((i+1)//10))+(' '*((train_size//100-(i+1))//10))+']'\n",
    "            print('\\repoch: {:d} loss: {:.3f}  {}'\n",
    "                .format(\n",
    "                    epoch + 1,\n",
    "                    loss.cpu().item(),\n",
    "                    progress_bar),\n",
    "                end=\"  \")\n",
    "\n",
    "    train_acc = float(train_correct/train_total)\n",
    "\n",
    "    print('\\repoch: {:d} loss: {:.3f}'\n",
    "        .format(epoch + 1, train_loss / (train_size / batch_size)), end=\"  \")\n",
    "    history[\"train_acc\"].append(train_acc)\n",
    "    history[\"train_loss\"].append(train_loss / (train_size / batch_size))\n",
    "\n",
    "    correct = 0\n",
    "    total = 0\n",
    "    batch_num = 0\n",
    "    loss = 0\n",
    "    with torch.no_grad():\n",
    "        model.eval()\n",
    "        for data in val_loader:\n",
    "            data = data.to(device)\n",
    "            outputs = model(data)\n",
    "            loss += criterion(outputs,data.y - 1)  ## 1th indexed -> 0th indexed\n",
    "            predicted = torch.max(outputs, 1)[1] + 1  ## 0th indexed -> 1th indexed\n",
    "            total += data.y.size(0)\n",
    "            batch_num += 1\n",
    "            correct += (predicted == data.y).sum().cpu().item()\n",
    "\n",
    "    history[\"val_acc\"].append(correct/total)\n",
    "    history[\"val_loss\"].append(loss.cpu().item()/batch_num)\n",
    "    endstr = ' '*max(1,(train_size//1000-39))+\"\\n\"\n",
    "    print('Val Accuracy: {:.2f} %'.format(100 * float(correct/total)), end='  ')\n",
    "    print(f'Val Loss: {loss.cpu().item()/batch_num:.3f}',end=endstr)\n",
    "\n",
    "print('Finished Training')\n",
    "elapsed_time = time.time() - start\n",
    "print(\"elapsed time: {}\".format(datetime.timedelta(seconds=int(elapsed_time))))\n",
    "\n",
    "\n",
    "#テストデータでの最終結果出力\n",
    "correct = 0\n",
    "total = 0\n",
    "with torch.no_grad():\n",
    "    model.eval()\n",
    "    for data in test_loader:\n",
    "        data = data.to(device)\n",
    "        outputs = model(data)\n",
    "        predicted = torch.max(outputs, 1)[1] + 1  ## 0th indexed -> 1th indexed\n",
    "        total += data.y.size(0)\n",
    "        correct += (predicted == data.y).sum().cpu().item()\n",
    "print('Test Accuracy: {:.2f} %'.format(100 * float(correct/total)))"
   ]
  },
  {
   "cell_type": "markdown",
   "metadata": {
    "colab_type": "text",
    "id": "yq4VX3bHXOJq"
   },
   "source": [
    "## 可視化"
   ]
  },
  {
   "cell_type": "code",
   "execution_count": 18,
   "metadata": {
    "colab": {
     "base_uri": "https://localhost:8080/",
     "height": 279
    },
    "colab_type": "code",
    "executionInfo": {
     "elapsed": 192227,
     "status": "ok",
     "timestamp": 1594711504548,
     "user": {
      "displayName": "Hayato Onoue",
      "photoUrl": "",
      "userId": "07486968416296706504"
     },
     "user_tz": -540
    },
    "id": "OfGA4f0IAMjT",
    "outputId": "36294f38-40f3-4f99-be3f-7595de6a9dc7"
   },
   "outputs": [
    {
     "data": {
      "image/png": "[encoded data removed]",
      "text/plain": [
       "<Figure size 432x288 with 1 Axes>"
      ]
     },
     "metadata": {
      "needs_background": "light"
     },
     "output_type": "display_data"
    }
   ],
   "source": [
    "plt.xlabel(\"epoch\")\n",
    "plt.ylabel(\"accuracy\")\n",
    "\n",
    "x = np.arange(epoch_num) + 1\n",
    "plt.plot(x, history[\"train_acc\"], label=\"train acc\")\n",
    "plt.plot(x, history[\"val_acc\"], label=\"val acc\")\n",
    "plt.legend()\n",
    "plt.show()"
   ]
  },
  {
   "cell_type": "markdown",
   "metadata": {},
   "source": [
    "## 実験条件"
   ]
  },
  {
   "cell_type": "code",
   "execution_count": 22,
   "metadata": {},
   "outputs": [
    {
     "name": "stdout",
     "output_type": "stream",
     "text": [
      "=====Simulation conditions=====\n",
      "目的：隣接町列を生成した数字の予測\n",
      "ネットワーク：GCNN\n",
      "Test run: True\n",
      "Number of beads: 10\n",
      "Number of samples for training: 72\n",
      "Add noise: True\n",
      "Number of epochs: 3\n",
      "Batch size: 128\n",
      "Diffusion time: 20\n",
      "=====Results=====\n",
      "elapsed time: 0:00:00\n",
      "Test Accuracy: 11.11 %\n"
     ]
    }
   ],
   "source": [
    "nBeads = train_set[0].num_nodes\n",
    "n_train_smaples = len(train_set)\n",
    "t = 20\n",
    "\n",
    "print(\"=====Simulation conditions=====\")\n",
    "print(\"目的：隣接町列を生成した数字の予測\")\n",
    "print(\"ネットワーク：GCNN\")\n",
    "print(\"Test run: {}\".format(test_run))\n",
    "print(\"Number of beads: {}\".format(nBeads))\n",
    "print(\"Number of samples for training: {}\".format(n_train_smaples))\n",
    "print(\"Add noise: {}\".format(add_noise))\n",
    "print(\"Number of epochs: {}\".format(epoch_num))\n",
    "print(\"Batch size: {}\".format(batch_size))\n",
    "print(\"Diffusion time: {}\".format(t))\n",
    "\n",
    "print(\"=====Results=====\")\n",
    "print(\"elapsed time: {}\".format(datetime.timedelta(seconds=int(elapsed_time))))\n",
    "print('Test Accuracy: {:.2f} %'.format(100 * float(correct/total)))"
   ]
  }
 ],
 "metadata": {
  "accelerator": "GPU",
  "colab": {
   "collapsed_sections": [],
   "name": "adj2Digit_GCN_PyG.ipynb",
   "provenance": [],
   "toc_visible": true
  },
  "kernelspec": {
   "display_name": "Python 3",
   "language": "python",
   "name": "python3"
  },
  "language_info": {
   "codemirror_mode": {
    "name": "ipython",
    "version": 3
   },
   "file_extension": ".py",
   "mimetype": "text/x-python",
   "name": "python",
   "nbconvert_exporter": "python",
   "pygments_lexer": "ipython3",
   "version": "3.8.3"
  }
 },
 "nbformat": 4,
 "nbformat_minor": 4
}
