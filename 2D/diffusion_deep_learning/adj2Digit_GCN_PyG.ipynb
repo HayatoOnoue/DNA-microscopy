{
 "cells": [
  {
   "cell_type": "markdown",
   "metadata": {
    "colab_type": "text",
    "id": "VXEnmFmUpHvj"
   },
   "source": [
    "# GCNNによる隣接行列の分類"
   ]
  },
  {
   "cell_type": "markdown",
   "metadata": {
    "colab_type": "text",
    "id": "_b8X4CJ1pNce"
   },
   "source": [
    "## Colabで実行するときの設定"
   ]
  },
  {
   "cell_type": "raw",
   "metadata": {
    "colab": {
     "base_uri": "https://localhost:8080/",
     "height": 71
    },
    "colab_type": "code",
    "executionInfo": {
     "elapsed": 656,
     "status": "ok",
     "timestamp": 1594711095844,
     "user": {
      "displayName": "Hayato Onoue",
      "photoUrl": "",
      "userId": "07486968416296706504"
     },
     "user_tz": -540
    },
    "id": "FvAIttFmf0z-",
    "outputId": "69668a31-11d4-4093-cc1d-70ae50feb235"
   },
   "source": [
    "# GoogleDriveのマウント\n",
    "\n",
    "from google.colab import drive\n",
    "drive.mount('/content/drive')\n",
    "\n",
    "%cd /content/drive/My\\ Drive/source/dna-microscopy/2D/diffusion_deep_learning"
   ]
  },
  {
   "cell_type": "raw",
   "metadata": {
    "colab": {
     "base_uri": "https://localhost:8080/",
     "height": 989
    },
    "colab_type": "code",
    "executionInfo": {
     "elapsed": 11575,
     "status": "ok",
     "timestamp": 1594711106804,
     "user": {
      "displayName": "Hayato Onoue",
      "photoUrl": "",
      "userId": "07486968416296706504"
     },
     "user_tz": -540
    },
    "id": "QVGwjAMZoNKz",
    "jupyter": {
     "outputs_hidden": true
    },
    "outputId": "4ace2b5d-2a86-4f04-bc08-bdf4cb4cdf7b"
   },
   "source": [
    "# PyGのインストール\n",
    "! pip install --verbose --no-cache-dir torch-scatter\n",
    "! pip install --verbose --no-cache-dir torch-sparse\n",
    "! pip install --verbose --no-cache-dir torch-cluster\n",
    "! pip install torch-geometric"
   ]
  },
  {
   "cell_type": "raw",
   "metadata": {
    "colab": {
     "base_uri": "https://localhost:8080/",
     "height": 153
    },
    "colab_type": "code",
    "executionInfo": {
     "elapsed": 13066,
     "status": "ok",
     "timestamp": 1594711108367,
     "user": {
      "displayName": "Hayato Onoue",
      "photoUrl": "",
      "userId": "07486968416296706504"
     },
     "user_tz": -540
    },
    "id": "j29azogRMobF",
    "outputId": "492df70a-7f91-4a41-ab27-84cd08758571"
   },
   "source": [
    "!pip list | grep torch"
   ]
  },
  {
   "cell_type": "code",
   "execution_count": 4,
   "metadata": {
    "colab": {
     "base_uri": "https://localhost:8080/",
     "height": 372
    },
    "colab_type": "code",
    "executionInfo": {
     "elapsed": 1161,
     "status": "error",
     "timestamp": 1594911072980,
     "user": {
      "displayName": "Hayato Onoue",
      "photoUrl": "",
      "userId": "07486968416296706504"
     },
     "user_tz": -540
    },
    "id": "PhVO0ABfv1r1",
    "outputId": "9016ea17-597d-49ba-bb24-d02b1fc7cdb4"
   },
   "outputs": [],
   "source": [
    "from matplotlib import pyplot as plt\n",
    "import numpy as np\n",
    "import time\n",
    "import datetime\n",
    "from scipy.io import mmread\n",
    "from sklearn.model_selection import train_test_split\n",
    "import random\n",
    "\n",
    "import torch\n",
    "import torch.nn as nn\n",
    "import torch.nn.functional as F\n",
    "\n",
    "from torch_geometric.nn import GCNConv\n",
    "from torch_geometric.data import Data, DataLoader\n",
    "from torch_scatter import  scatter\n",
    "\n",
    "# random seed\n",
    "torch.manual_seed(1234)\n",
    "np.random.seed(1234)\n",
    "random.seed(1234)"
   ]
  },
  {
   "cell_type": "markdown",
   "metadata": {
    "colab_type": "text",
    "id": "W7SiDY1Ap-uh"
   },
   "source": [
    "## データの用意"
   ]
  },
  {
   "cell_type": "markdown",
   "metadata": {
    "colab_type": "text",
    "id": "odAGkPkOqC_L"
   },
   "source": [
    "### データの読み込み"
   ]
  },
  {
   "cell_type": "code",
   "execution_count": 5,
   "metadata": {
    "colab": {},
    "colab_type": "code",
    "id": "SWv_YSD_n_Ih"
   },
   "outputs": [],
   "source": [
    "test_run = True\n",
    "\n",
    "#データの読み込み\n",
    "if test_run:\n",
    "    # プログラムが動くかどうかのテスト用の小さいデータ．shape=（5*9, 32*32 + 1）\n",
    "    adjMats = mmread(\"small_adjMats.mtx\").toarray()\n",
    "    targets = mmread(\"small_targets.mtx\")\n",
    "    epoch_num = 1\n",
    "    batch_size = 128\n",
    "else:\n",
    "    # 本番用データ\n",
    "    adjMats = mmread(\"adjMats.mtx\").toarray()\n",
    "    targets = mmread(\"targets.mtx\")\n",
    "    epoch_num = 100\n",
    "    batch_size = 128\n",
    "\n",
    "nBeads = int(np.sqrt(adjMats.shape[1]))\n",
    "\n",
    "# vggを使うためデータのshapeを(nSmaple*9, 1, nBeads,nBeads)にする.第2次元はチャネル数に相当する．\n",
    "#adjMats = adjMats.reshape(adjMats.shape[0], 1, nBeads, nBeads)\n",
    "adjMats = adjMats.reshape(adjMats.shape[0], nBeads, nBeads)"
   ]
  },
  {
   "cell_type": "markdown",
   "metadata": {
    "colab_type": "text",
    "id": "79Q_2UM3rdDJ"
   },
   "source": [
    "\n",
    "### (dataset,) dataloaderの作成"
   ]
  },
  {
   "cell_type": "code",
   "execution_count": 6,
   "metadata": {
    "colab": {},
    "colab_type": "code",
    "id": "dodhgUzf6Do4"
   },
   "outputs": [],
   "source": [
    "# PyG用のデータに変換\n",
    "\n",
    "# とりあえずはPyGのDataset, In Memory Datasetを使わない簡易的な実装を用いる\n",
    "data_list = []\n",
    "for i, a in enumerate(adjMats):\n",
    "    e_index = np.where(a > 0)\n",
    "\n",
    "    # edge_weightを使うときはなぜか入力をfloatにしておかないとエラーになる\n",
    "    x = torch.ones((nBeads, 1)).float()  # ノードに特徴量はないのでとりあえず1にしている\n",
    "\n",
    "    edge_index = torch.tensor(e_index, dtype=torch.long)\n",
    "\n",
    "    # edge_weightを使うときはなぜか入力をfloatにしておかないとエラーになる\n",
    "    edge_attr = torch.tensor(a[e_index].reshape(-1,1)).float()\n",
    "\n",
    "    y = int(targets[i]) - 1  ##pytorchではカテゴリは1th indexではなく0th indexでなければならない\n",
    "\n",
    "    data_list.append(Data(x=x, edge_index=edge_index, edge_attr=edge_attr, y=y))\n",
    "\n",
    "test_size = int(len(data_list) * 0.1)\n",
    "\n",
    "trainval_list, test_list = train_test_split(data_list, test_size=test_size, shuffle=True)\n",
    "train_list, val_list = train_test_split(trainval_list, test_size=test_size, random_state=0)\n",
    "\n",
    "# dataloaderの作成    \n",
    "train_loader = DataLoader(train_list, batch_size=batch_size)\n",
    "val_loader = DataLoader(val_list, batch_size=batch_size)\n",
    "test_loader = DataLoader(test_list, batch_size=batch_size)"
   ]
  },
  {
   "cell_type": "markdown",
   "metadata": {
    "colab_type": "text",
    "id": "KrYnvRj-KHPF"
   },
   "source": [
    "## モデルの定義"
   ]
  },
  {
   "cell_type": "markdown",
   "metadata": {
    "colab_type": "text",
    "id": "T2O2r6c7vFPo"
   },
   "source": [
    "### ネットワークの定義"
   ]
  },
  {
   "cell_type": "code",
   "execution_count": 7,
   "metadata": {
    "colab": {},
    "colab_type": "code",
    "id": "TOPTkv2urfVk"
   },
   "outputs": [],
   "source": [
    "class Net(torch.nn.Module):\n",
    "    def __init__(self):\n",
    "        super(Net, self).__init__()\n",
    "        #TODO: 入力グラフのチャネル数への依存をなくす\n",
    "        self.conv1 = GCNConv(1, 16)\n",
    "        self.conv2 = GCNConv(16, 32)\n",
    "        self.conv3 = GCNConv(32, 48)\n",
    "        self.conv4 = GCNConv(48, 64)\n",
    "        self.conv5 = GCNConv(64, 96)\n",
    "        self.conv6 = GCNConv(96, 128)\n",
    "        self.linear1 = torch.nn.Linear(128,64)\n",
    "        #TODO: 分類数への依存をなくす\n",
    "        self.linear2 = torch.nn.Linear(64,9)\n",
    "\n",
    "    def forward(self, data):\n",
    "        x, edge_index = data.x, data.edge_index\n",
    "        \"\"\"\n",
    "        #edge_weightを用いる場合はこちらを用いる\n",
    "        #edge_weight = data.edge_attr うまくいかない．PyG自体のバグ？\n",
    "        edge_weight = torch.squeeze(data.edge_attr)\n",
    "        x = self.conv1(x, edge_index, edge_weight)\n",
    "        x = F.relu(x)\n",
    "        x = self.conv2(x, edge_index, edge_weight)\n",
    "        x = F.relu(x)\n",
    "        x = self.conv3(x, edge_index, edge_weight)\n",
    "        x = F.relu(x)\n",
    "        x = self.conv4(x, edge_index, edge_weight)\n",
    "        x = F.relu(x)\n",
    "        x = self.conv5(x, edge_index, edge_weight)\n",
    "        x = F.relu(x)\n",
    "        x = self.conv6(x, edge_index, edge_weight)\n",
    "        x = F.relu(x)\n",
    "        \"\"\"\n",
    "        x = self.conv1(x, edge_index)\n",
    "        x = F.relu(x)\n",
    "        x = self.conv2(x, edge_index)\n",
    "        x = F.relu(x)\n",
    "        x = self.conv3(x, edge_index)\n",
    "        x = F.relu(x)\n",
    "        x = self.conv4(x, edge_index)\n",
    "        x = F.relu(x)\n",
    "        x = self.conv5(x, edge_index)\n",
    "        x = F.relu(x)\n",
    "        x = self.conv6(x, edge_index)\n",
    "        x = F.relu(x)\n",
    "        \n",
    "        x = scatter(x, data.batch, dim=0, reduce=\"max\")\n",
    "        x = self.linear1(x)\n",
    "        x = F.relu(x)\n",
    "        x = self.linear2(x)\n",
    "        return x"
   ]
  },
  {
   "cell_type": "markdown",
   "metadata": {
    "colab_type": "text",
    "id": "z0RaAOKXP5MK"
   },
   "source": [
    "### 学習"
   ]
  },
  {
   "cell_type": "code",
   "execution_count": 8,
   "metadata": {
    "colab": {
     "base_uri": "https://localhost:8080/",
     "height": 1000
    },
    "colab_type": "code",
    "executionInfo": {
     "elapsed": 192239,
     "status": "ok",
     "timestamp": 1594711504547,
     "user": {
      "displayName": "Hayato Onoue",
      "photoUrl": "",
      "userId": "07486968416296706504"
     },
     "user_tz": -540
    },
    "id": "A2IH_RUHPo7E",
    "outputId": "629436ed-26e4-4a53-e6ae-06082b38b2f4"
   },
   "outputs": [
    {
     "name": "stdout",
     "output_type": "stream",
     "text": [
      "device: cpu\n",
      "epoch: 1 loss: 2.350  Val Accuracy: 13.33 %  Val Loss: 2.194 \n",
      "Finished Training\n",
      "elapsed time: 0:00:35\n",
      "Test Accuracy: 6.67 %\n"
     ]
    }
   ],
   "source": [
    "start = time.time()\n",
    "# GPUの使用\n",
    "device = torch.device(\"cuda:0\" if torch.cuda.is_available() else \"cpu\")\n",
    "print(\"device:\", device)\n",
    "\n",
    "train_size = len(train_list)\n",
    "val_size = len(val_list)\n",
    "test_size = len(test_list)\n",
    "\n",
    "model = Net().to(device)\n",
    "\n",
    "optimizer = torch.optim.Adam(model.parameters())\n",
    "\n",
    "criterion = nn.CrossEntropyLoss()\n",
    "history = {\n",
    "    \"train_loss\": [],\n",
    "    \"train_acc\": [],\n",
    "    \"val_loss\": [],\n",
    "    \"val_acc\": []\n",
    "}\n",
    "\n",
    "model.train()\n",
    "for epoch in range(epoch_num):\n",
    "    train_correct = 0\n",
    "    train_total = 0\n",
    "    train_loss = 0.0\n",
    "    for i, batch in enumerate(train_loader):\n",
    "        batch = batch.to(device)\n",
    "        optimizer.zero_grad()\n",
    "        outputs = model(batch)\n",
    "        loss = criterion(outputs, batch.y)\n",
    "        loss.backward()\n",
    "        optimizer.step()\n",
    "        \n",
    "        _, predicted = torch.max(outputs, 1)\n",
    "        train_total += batch.y.size(0)\n",
    "        train_correct += (predicted == batch.y).sum().cpu().item()\n",
    "\n",
    "        train_loss += loss.cpu().item()\n",
    "        if i % 10 == 9:\n",
    "            progress_bar = '['+('='*((i+1)//10))+(' '*((train_size//100-(i+1))//10))+']'\n",
    "            print('\\repoch: {:d} loss: {:.3f}  {}'\n",
    "                .format(\n",
    "                    epoch + 1,\n",
    "                    loss.cpu().item(),\n",
    "                    progress_bar),\n",
    "                end=\"  \")\n",
    "\n",
    "    train_acc = float(train_correct/train_total)\n",
    "\n",
    "    print('\\repoch: {:d} loss: {:.3f}'\n",
    "        .format(epoch + 1, train_loss / (train_size / batch_size)), end=\"  \")\n",
    "    history[\"train_acc\"].append(train_acc)\n",
    "    history[\"train_loss\"].append(train_loss / (train_size / batch_size))\n",
    "\n",
    "    correct = 0\n",
    "    total = 0\n",
    "    batch_num = 0\n",
    "    loss = 0\n",
    "    with torch.no_grad():\n",
    "        for data in val_loader:\n",
    "            data = data.to(device)\n",
    "            outputs = model(data)\n",
    "            loss += criterion(outputs,data.y)\n",
    "            _, predicted = torch.max(outputs, 1)\n",
    "            total += data.y.size(0)\n",
    "            batch_num += 1\n",
    "            correct += (predicted == data.y).sum().cpu().item()\n",
    "\n",
    "    history[\"val_acc\"].append(correct/total)\n",
    "    history[\"val_loss\"].append(loss.cpu().item()/batch_num)\n",
    "    endstr = ' '*max(1,(train_size//1000-39))+\"\\n\"\n",
    "    print('Val Accuracy: {:.2f} %'.format(100 * float(correct/total)), end='  ')\n",
    "    print(f'Val Loss: {loss.cpu().item()/batch_num:.3f}',end=endstr)\n",
    "\n",
    "print('Finished Training')\n",
    "elapsed_time = time.time() - start\n",
    "print(\"elapsed time: {}\".format(datetime.timedelta(seconds=int(elapsed_time))))\n",
    "\n",
    "\n",
    "#テストデータでの最終結果出力\n",
    "correct = 0\n",
    "total = 0\n",
    "with torch.no_grad():\n",
    "    for data in test_loader:\n",
    "        data = data.to(device)\n",
    "        outputs = model(data)\n",
    "        _, predicted = torch.max(outputs, 1)\n",
    "        total += data.y.size(0)\n",
    "        correct += (predicted == data.y).sum().cpu().item()\n",
    "print('Test Accuracy: {:.2f} %'.format(100 * float(correct/total)))"
   ]
  },
  {
   "cell_type": "markdown",
   "metadata": {
    "colab_type": "text",
    "id": "yq4VX3bHXOJq"
   },
   "source": [
    "## 可視化"
   ]
  },
  {
   "cell_type": "code",
   "execution_count": 9,
   "metadata": {
    "colab": {
     "base_uri": "https://localhost:8080/",
     "height": 279
    },
    "colab_type": "code",
    "executionInfo": {
     "elapsed": 192227,
     "status": "ok",
     "timestamp": 1594711504548,
     "user": {
      "displayName": "Hayato Onoue",
      "photoUrl": "",
      "userId": "07486968416296706504"
     },
     "user_tz": -540
    },
    "id": "OfGA4f0IAMjT",
    "outputId": "36294f38-40f3-4f99-be3f-7595de6a9dc7"
   },
   "outputs": [
    {
     "data": {
      "image/png": "[encoded data removed]",
      "text/plain": [
       "<Figure size 432x288 with 1 Axes>"
      ]
     },
     "metadata": {
      "needs_background": "light"
     },
     "output_type": "display_data"
    }
   ],
   "source": [
    "plt.xlabel(\"epoch\")\n",
    "plt.ylabel(\"accuracy\")\n",
    "\n",
    "x = np.arange(epoch_num) + 1\n",
    "plt.plot(x, history[\"train_acc\"], label=\"train acc\")\n",
    "plt.plot(x, history[\"val_acc\"], label=\"val acc\")\n",
    "plt.legend()\n",
    "plt.show()"
   ]
  },
  {
   "cell_type": "markdown",
   "metadata": {},
   "source": [
    "## 実験条件"
   ]
  },
  {
   "cell_type": "code",
   "execution_count": 10,
   "metadata": {},
   "outputs": [
    {
     "name": "stdout",
     "output_type": "stream",
     "text": [
      "=====Simulation conditions=====\n",
      "目的：隣接町列を生成した数字の予測\n",
      "ネットワーク：GCNN\n",
      "Test run: True\n",
      "Number of beads: 50\n",
      "Number of samples for each shape: 900\n",
      "Number of epochs: 1\n",
      "Batch size: 128\n",
      "Diffusion time: 20\n",
      "=====Results=====\n",
      "elapsed time: 0:00:35\n",
      "Test Accuracy: 6.67 %\n"
     ]
    }
   ],
   "source": [
    "nSmaples = len(adjMats)\n",
    "t = 20\n",
    "\n",
    "print(\"=====Simulation conditions=====\")\n",
    "print(\"目的：隣接町列を生成した数字の予測\")\n",
    "print(\"ネットワーク：GCNN\")\n",
    "print(\"Test run: {}\".format(test_run))\n",
    "print(\"Number of beads: {}\".format(nBeads))\n",
    "print(\"Number of samples for each shape: {}\".format(nSmaples))\n",
    "print(\"Number of epochs: {}\".format(epoch_num))\n",
    "print(\"Batch size: {}\".format(batch_size))\n",
    "print(\"Diffusion time: {}\".format(t))\n",
    "\n",
    "print(\"=====Results=====\")\n",
    "print(\"elapsed time: {}\".format(datetime.timedelta(seconds=int(elapsed_time))))\n",
    "print('Test Accuracy: {:.2f} %'.format(100 * float(correct/total)))"
   ]
  }
 ],
 "metadata": {
  "accelerator": "GPU",
  "colab": {
   "collapsed_sections": [],
   "name": "adj2Digit_GCN_PyG.ipynb",
   "provenance": [],
   "toc_visible": true
  },
  "kernelspec": {
   "display_name": "Python 3",
   "language": "python",
   "name": "python3"
  },
  "language_info": {
   "codemirror_mode": {
    "name": "ipython",
    "version": 3
   },
   "file_extension": ".py",
   "mimetype": "text/x-python",
   "name": "python",
   "nbconvert_exporter": "python",
   "pygments_lexer": "ipython3",
   "version": "3.7.7"
  }
 },
 "nbformat": 4,
 "nbformat_minor": 4
}
