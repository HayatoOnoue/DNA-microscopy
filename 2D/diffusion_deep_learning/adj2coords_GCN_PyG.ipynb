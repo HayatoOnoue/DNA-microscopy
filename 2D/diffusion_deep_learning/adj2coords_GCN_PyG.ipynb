{
 "cells": [
  {
   "cell_type": "markdown",
   "metadata": {
    "colab_type": "text",
    "id": "VXEnmFmUpHvj"
   },
   "source": [
    "# GCNNによって隣接行列からノードの座標の予測する"
   ]
  },
  {
   "cell_type": "markdown",
   "metadata": {
    "colab_type": "text",
    "id": "_b8X4CJ1pNce"
   },
   "source": [
    "## Colabで実行するときの設定"
   ]
  },
  {
   "cell_type": "raw",
   "metadata": {
    "colab": {
     "base_uri": "https://localhost:8080/",
     "height": 71
    },
    "colab_type": "code",
    "executionInfo": {
     "elapsed": 953,
     "status": "ok",
     "timestamp": 1594717465054,
     "user": {
      "displayName": "Hayato Onoue",
      "photoUrl": "",
      "userId": "07486968416296706504"
     },
     "user_tz": -540
    },
    "id": "FvAIttFmf0z-",
    "outputId": "d042110f-242c-461e-9522-f893321e5423"
   },
   "source": [
    "# GoogleDriveのマウント\n",
    "\n",
    "from google.colab import drive\n",
    "drive.mount('/content/drive')\n",
    "\n",
    "%cd /content/drive/My\\ Drive/source/dna-microscopy/2D/diffusion_deep_learning"
   ]
  },
  {
   "cell_type": "raw",
   "metadata": {
    "colab": {
     "base_uri": "https://localhost:8080/",
     "height": 1000
    },
    "colab_type": "code",
    "executionInfo": {
     "elapsed": 11307,
     "status": "ok",
     "timestamp": 1594717411750,
     "user": {
      "displayName": "Hayato Onoue",
      "photoUrl": "",
      "userId": "07486968416296706504"
     },
     "user_tz": -540
    },
    "id": "QVGwjAMZoNKz",
    "jupyter": {
     "outputs_hidden": true
    },
    "outputId": "83fa2aa9-5ee4-4840-cf67-357cbf02aa47"
   },
   "source": [
    "# PyGのインストール\n",
    "! pip install --verbose --no-cache-dir torch-scatter\n",
    "! pip install --verbose --no-cache-dir torch-sparse\n",
    "! pip install --verbose --no-cache-dir torch-cluster\n",
    "! pip install torch-geometric"
   ]
  },
  {
   "cell_type": "raw",
   "metadata": {
    "colab": {
     "base_uri": "https://localhost:8080/",
     "height": 153
    },
    "colab_type": "code",
    "executionInfo": {
     "elapsed": 2508,
     "status": "ok",
     "timestamp": 1594717472587,
     "user": {
      "displayName": "Hayato Onoue",
      "photoUrl": "",
      "userId": "07486968416296706504"
     },
     "user_tz": -540
    },
    "id": "j29azogRMobF",
    "outputId": "02ee142f-188c-4e5a-f994-7b23c8f00933"
   },
   "source": [
    "!pip list | grep torch"
   ]
  },
  {
   "cell_type": "markdown",
   "metadata": {
    "colab_type": "text",
    "id": "escy5OAHnCsB"
   },
   "source": [
    "## 実験条件\n",
    "\n",
    "- ネットワーク: GCNN\n",
    "- 目的：隣接行列を生成した数字の予測\n",
    "- edge weight: 使用\n",
    "- epoch: 100\n",
    "- 拡散時間t=20, ビーズの数nBeads=100\n",
    "- 作った隣接行列：1~9の各クラスで100ずつ\n",
    "- バッチサイズ：128"
   ]
  },
  {
   "cell_type": "code",
   "execution_count": 1,
   "metadata": {
    "colab": {},
    "colab_type": "code",
    "id": "PhVO0ABfv1r1"
   },
   "outputs": [],
   "source": [
    "from matplotlib import pyplot as plt\n",
    "import numpy as np\n",
    "import time\n",
    "import datetime\n",
    "from scipy.io import mmread\n",
    "from sklearn.model_selection import train_test_split\n",
    "import random\n",
    "import networkx as nx\n",
    "import math\n",
    "\n",
    "import torch\n",
    "import torch.nn as nn\n",
    "import torch.nn.functional as F\n",
    "\n",
    "from torch_geometric.nn import GCNConv\n",
    "from torch_geometric.data import Data, DataLoader\n",
    "from torch_scatter import  scatter\n",
    "\n",
    "# random seed\n",
    "torch.manual_seed(1234)\n",
    "np.random.seed(1234)\n",
    "random.seed(1234)"
   ]
  },
  {
   "cell_type": "markdown",
   "metadata": {
    "colab_type": "text",
    "id": "W7SiDY1Ap-uh"
   },
   "source": [
    "## データの用意"
   ]
  },
  {
   "cell_type": "markdown",
   "metadata": {
    "colab_type": "text",
    "id": "odAGkPkOqC_L"
   },
   "source": [
    "### データの読み込み"
   ]
  },
  {
   "cell_type": "code",
   "execution_count": 2,
   "metadata": {
    "colab": {},
    "colab_type": "code",
    "id": "SWv_YSD_n_Ih"
   },
   "outputs": [],
   "source": [
    "test_run = True\n",
    "add_noise = True\n",
    "\n",
    "#データの読み込み\n",
    "if test_run:\n",
    "    # プログラムが動くかどうかのテスト用の小さいデータ．shape=（5*9, 32*32 + 1）\n",
    "    adjMats = mmread(\"small_adjMats.mtx\").toarray()\n",
    "    targets = mmread(\"small_targets.mtx\")\n",
    "    coords = mmread(\"small_coords.mtx\")\n",
    "    epoch_num = 1\n",
    "    batch_size = 128\n",
    "else:\n",
    "    # 本番用データ\n",
    "    adjMats = mmread(\"adjMats.mtx\").toarray()\n",
    "    targets = mmread(\"targets.mtx\")\n",
    "    coords = mmread(\"coords.mtx\")\n",
    "    epoch_num = 100\n",
    "    batch_size = 128\n",
    "\n",
    "nBeads = int(np.sqrt(adjMats.shape[1]))\n",
    "nDim = 2\n",
    "# vggを使うためデータのshapeを(nSmaple*9, 1, nBeads,nBeads)にする.第2次元はチャネル数に相当する．\n",
    "#adjMats = adjMats.reshape(adjMats.shape[0], 1, nBeads, nBeads)\n",
    "adjMats = adjMats.reshape(adjMats.shape[0], nBeads, nBeads)\n",
    "coords = coords.reshape(adjMats.shape[0], nBeads, nDim)"
   ]
  },
  {
   "cell_type": "code",
   "execution_count": 3,
   "metadata": {},
   "outputs": [],
   "source": [
    "nonzero_idx = np.nonzero(adjMats)\n",
    "n_nonzero = len(nonzero_idx[0])\n",
    "\n",
    "# 読み込んだ隣接行列にノイズを加える\n",
    "if add_noise:\n",
    "    # ここでは非零要素（エッジがある部分）に標準正規分布に従うノイズを加えた\n",
    "    adjMats[nonzero_idx] += np.random.randn(n_nonzero)"
   ]
  },
  {
   "cell_type": "code",
   "execution_count": 4,
   "metadata": {},
   "outputs": [],
   "source": [
    "# 隣接行列の重みを変換して，ノード同士の距離が近い時は重みも小さくなるようにする(kamada kawaiと同じ)\n",
    "# ここでは逆数や-1/2乗にしている\n",
    "# この処理をすることで edge_weightを用いたときも学習できるようになったが理由は不明\n",
    "p = -1.0\n",
    "adjMats[nonzero_idx] = adjMats[nonzero_idx]**p"
   ]
  },
  {
   "cell_type": "markdown",
   "metadata": {
    "colab_type": "text",
    "id": "79Q_2UM3rdDJ"
   },
   "source": [
    "\n",
    "### (dataset,) dataloaderの作成"
   ]
  },
  {
   "cell_type": "code",
   "execution_count": 5,
   "metadata": {
    "colab": {},
    "colab_type": "code",
    "id": "dodhgUzf6Do4"
   },
   "outputs": [],
   "source": [
    "# PyG用のデータに変換\n",
    "\n",
    "# とりあえずはPyGのDataset, In Memory Datasetを使わない簡易的な実装を用いる\n",
    "data_list = []\n",
    "for i, a in enumerate(adjMats):\n",
    "    e_index = np.where(a > 0)\n",
    "\n",
    "    # edge_weightを使うときはなぜか入力をfloatにしておかないとエラーになる\n",
    "    x = torch.ones((nBeads, 1)).float()  # ノードに特徴量はないのでとりあえず1にしている\n",
    "\n",
    "    edge_index = torch.tensor(e_index, dtype=torch.long)\n",
    "    \n",
    "    # edge_weightを使うときはなぜか入力をfloatにしておかないとエラーになる\n",
    "    edge_attr = torch.tensor(a[e_index].reshape(-1,1)).float()\n",
    "\n",
    "    y = int(targets[i]) - 1  ##pytorchではカテゴリは1th indexではなく0th indexでなければならない\n",
    "    coord = torch.tensor(coords[i]).float()\n",
    "\n",
    "    data_list.append(Data(x=x,edge_index=edge_index,edge_attr=edge_attr,y=y,coord=coord))\n",
    "\n",
    "test_size = int(len(data_list) * 0.1)\n",
    "\n",
    "trainval_data, test_data = train_test_split(data_list, test_size=test_size, shuffle=True)\n",
    "train_data, val_data = train_test_split(trainval_data, test_size=test_size, random_state=0)\n",
    "\n",
    "# dataloaderの作成    \n",
    "train_loader = DataLoader(train_data, batch_size=batch_size)\n",
    "val_loader = DataLoader(val_data, batch_size=batch_size)\n",
    "test_loader = DataLoader(test_data, batch_size=batch_size)"
   ]
  },
  {
   "cell_type": "markdown",
   "metadata": {
    "colab_type": "text",
    "id": "KrYnvRj-KHPF"
   },
   "source": [
    "## モデルの定義"
   ]
  },
  {
   "cell_type": "markdown",
   "metadata": {
    "colab_type": "text",
    "id": "T2O2r6c7vFPo"
   },
   "source": [
    "### ネットワークの定義"
   ]
  },
  {
   "cell_type": "code",
   "execution_count": 6,
   "metadata": {
    "colab": {},
    "colab_type": "code",
    "id": "JMQHfVgUTcYl"
   },
   "outputs": [],
   "source": [
    "class Net(torch.nn.Module):\n",
    "    def __init__(self):\n",
    "        super(Net, self).__init__()\n",
    "        #TODO: 入力グラフのチャネル数への依存をなくす\n",
    "        self.conv1 = GCNConv(1, 16)\n",
    "        self.conv2 = GCNConv(16, 32)\n",
    "        self.conv3 = GCNConv(32, 48)\n",
    "        self.conv4 = GCNConv(48, 64)\n",
    "        self.conv5 = GCNConv(64, 96)\n",
    "        self.conv6 = GCNConv(96, 128)\n",
    "        self.linear1 = torch.nn.Linear(128,64)\n",
    "        #TODO: 分類数への依存をなくす\n",
    "        self.linear2 = torch.nn.Linear(64,2)\n",
    "\n",
    "    def forward(self, data):\n",
    "        x, edge_index = data.x, data.edge_index\n",
    "        \n",
    "        #edge_weightとして用いるedge_attrのshapeが(n,1)だとうまくいかない．\n",
    "        #edge_attr.shapeが(n,)だと動く．おそらくPyG側のバグ？\n",
    "        edge_weight = torch.squeeze(data.edge_attr)\n",
    "        x = self.conv1(x, edge_index, edge_weight)\n",
    "        x = F.relu(x)\n",
    "        x = self.conv2(x, edge_index, edge_weight)\n",
    "        x = F.relu(x)\n",
    "        x = self.conv3(x, edge_index, edge_weight)\n",
    "        x = F.relu(x)\n",
    "        x = self.conv4(x, edge_index, edge_weight)\n",
    "        x = F.relu(x)\n",
    "        x = self.conv5(x, edge_index, edge_weight)\n",
    "        x = F.relu(x)\n",
    "        x = self.conv6(x, edge_index, edge_weight)\n",
    "        x = F.relu(x)\n",
    "        \"\"\"\n",
    "        x = self.conv1(x, edge_index)\n",
    "        x = F.relu(x)\n",
    "        x = self.conv2(x, edge_index)\n",
    "        x = F.relu(x)\n",
    "        x = self.conv3(x, edge_index)\n",
    "        x = F.relu(x)\n",
    "        x = self.conv4(x, edge_index)\n",
    "        x = F.relu(x)\n",
    "        x = self.conv5(x, edge_index)\n",
    "        x = F.relu(x)\n",
    "        x = self.conv6(x, edge_index)\n",
    "        x = F.relu(x)\n",
    "        \"\"\"\n",
    "        #x = scatter(x, data.batch, dim=0, reduce=\"max\")\n",
    "        x = self.linear1(x)\n",
    "        x = F.relu(x)\n",
    "        x = self.linear2(x)\n",
    "        return x"
   ]
  },
  {
   "cell_type": "markdown",
   "metadata": {
    "colab_type": "text",
    "id": "z0RaAOKXP5MK"
   },
   "source": [
    "### 学習"
   ]
  },
  {
   "cell_type": "code",
   "execution_count": 7,
   "metadata": {
    "colab": {
     "base_uri": "https://localhost:8080/",
     "height": 1000
    },
    "colab_type": "code",
    "executionInfo": {
     "elapsed": 161331,
     "status": "ok",
     "timestamp": 1594717726701,
     "user": {
      "displayName": "Hayato Onoue",
      "photoUrl": "",
      "userId": "07486968416296706504"
     },
     "user_tz": -540
    },
    "id": "EZkA2ZvhWpG1",
    "outputId": "76d9c5bf-cb6d-447b-c6b9-d0dfde5471d8"
   },
   "outputs": [
    {
     "name": "stdout",
     "output_type": "stream",
     "text": [
      "device: cpu\n",
      "epoch: 1 loss: 1.311  Val Loss: 1.292 \n",
      "Finished Training\n",
      "elapsed time: 0:00:04\n"
     ]
    }
   ],
   "source": [
    "start = time.time()\n",
    "# GPUの使用\n",
    "device = torch.device(\"cuda:0\" if torch.cuda.is_available() else \"cpu\")\n",
    "#device = torch.device(\"cuda\" if torch.cuda.is_available() else \"cpu\")\n",
    "#device = \"cpu\"\n",
    "print(\"device:\", device)\n",
    "\n",
    "train_size = len(train_data)\n",
    "val_size = len(val_data)\n",
    "test_size = len(test_data)\n",
    "\n",
    "model = Net().to(device)\n",
    "\n",
    "optimizer = torch.optim.Adam(model.parameters())\n",
    "\n",
    "criterion = nn.MSELoss()\n",
    "\n",
    "history = {\n",
    "    \"train_loss\": [],\n",
    "    \"val_loss\": [],\n",
    "}\n",
    "\n",
    "for epoch in range(epoch_num):\n",
    "    train_loss = 0.0\n",
    "    model.train()\n",
    "    for i, batch in enumerate(train_loader):\n",
    "        batch = batch.to(device)\n",
    "        optimizer.zero_grad()\n",
    "        prediction = model(batch)\n",
    "\n",
    "        loss = criterion(prediction, batch.coord)\n",
    "        loss.backward()\n",
    "        optimizer.step()\n",
    "        \n",
    "        train_loss += loss.cpu().item() * nDim\n",
    "        if i % 10 == 9:\n",
    "            progress_bar = '['+('='*((i+1)//10))+(' '*((train_size//100-(i+1))//10))+']'\n",
    "            print('\\repoch: {:d} loss: {:.3f}  {}'\n",
    "                .format(\n",
    "                    epoch + 1,\n",
    "                    loss.cpu().item() * nDim,  # 表示するlossはノード間の距離の二条の平均\n",
    "                    progress_bar),\n",
    "                end=\"  \")\n",
    "\n",
    "    print('\\repoch: {:d} loss: {:.3f}'\n",
    "        .format(epoch + 1, train_loss / math.ceil(train_size / batch_size)), end=\"  \")\n",
    "    history[\"train_loss\"].append(train_loss / math.ceil(train_size / batch_size))\n",
    "\n",
    "    batch_num = 0\n",
    "    loss = 0\n",
    "    with torch.no_grad():\n",
    "        model.eval()\n",
    "        for data in val_loader:\n",
    "            data = data.to(device)\n",
    "            prediction = model(data)\n",
    "            loss += criterion(prediction, data.coord) * nDim\n",
    "            batch_num += 1\n",
    "\n",
    "    history[\"val_loss\"].append(loss.cpu().item()/batch_num)\n",
    "    endstr = ' '*max(1,(train_size//1000-39))+\"\\n\"\n",
    "    print(f'Val Loss: {loss.cpu().item()/batch_num:.3f}',end=endstr)\n",
    "\n",
    "\n",
    "print('Finished Training')\n",
    "elapsed_time = time.time() - start\n",
    "print(\"elapsed time: {}\".format(datetime.timedelta(seconds=int(elapsed_time))))"
   ]
  },
  {
   "cell_type": "markdown",
   "metadata": {
    "colab_type": "text",
    "id": "yq4VX3bHXOJq"
   },
   "source": [
    "## 可視化"
   ]
  },
  {
   "cell_type": "markdown",
   "metadata": {
    "colab_type": "text",
    "id": "HBkC2aF4eGH-"
   },
   "source": [
    "#### 座標予測用の可視化"
   ]
  },
  {
   "cell_type": "code",
   "execution_count": 8,
   "metadata": {
    "colab": {
     "base_uri": "https://localhost:8080/",
     "height": 279
    },
    "colab_type": "code",
    "executionInfo": {
     "elapsed": 1712,
     "status": "ok",
     "timestamp": 1594718171173,
     "user": {
      "displayName": "Hayato Onoue",
      "photoUrl": "",
      "userId": "07486968416296706504"
     },
     "user_tz": -540
    },
    "id": "VN29VyfWeIh3",
    "outputId": "fa64a6c9-ae06-4683-afb0-d396c0935111"
   },
   "outputs": [
    {
     "data": {
      "image/png": "[encoded data removed]",
      "text/plain": [
       "<Figure size 432x288 with 1 Axes>"
      ]
     },
     "metadata": {
      "needs_background": "light"
     },
     "output_type": "display_data"
    }
   ],
   "source": [
    "# 損失\n",
    "plt.xlabel(\"epoch\")\n",
    "plt.ylabel(\"loss\")\n",
    "\n",
    "x = np.arange(epoch_num) + 1\n",
    "plt.plot(x, history[\"train_loss\"], label=\"train loss\")\n",
    "plt.plot(x, history[\"val_loss\"], label=\"val loss\")\n",
    "plt.legend()\n",
    "plt.show()"
   ]
  },
  {
   "cell_type": "code",
   "execution_count": 9,
   "metadata": {
    "colab": {},
    "colab_type": "code",
    "id": "IDcfJAmtFP4u"
   },
   "outputs": [
    {
     "data": {
      "image/png": "[encoded data removed]",
      "text/plain": [
       "<Figure size 432x288 with 2 Axes>"
      ]
     },
     "metadata": {},
     "output_type": "display_data"
    }
   ],
   "source": [
    "t_index = 0\n",
    "\n",
    "node_list = list(range(nBeads))\n",
    "\n",
    "# テストデータのノードの座標を予想\n",
    "with torch.no_grad():\n",
    "    model.eval()\n",
    "    t_data = test_data[t_index].to(device)\n",
    "    e_coords = model(t_data)\n",
    "    \n",
    "# 描画のためのグラフを作成\n",
    "t_src, t_dst = np.where(adjMats[t_index].squeeze() > 0)\n",
    "t_coords = coords[t_index]\n",
    "\n",
    "G = nx.Graph()\n",
    "G.add_nodes_from(node_list)\n",
    "G.add_edges_from(list(zip(t_src, t_dst)))\n",
    "\n",
    "fig = plt.figure()\n",
    "fig.suptitle(\"Generated shape: {}\".format(targets[t_index, 0]))\n",
    "\n",
    "ax1 = fig.add_subplot(1,2,1)\n",
    "ax1.set_title(\"True\")\n",
    "ax2 = fig.add_subplot(1,2,2)\n",
    "ax2.set_title(\"Estimated\")\n",
    "\n",
    "true_pos = dict(zip(node_list, t_coords))\n",
    "#nx.draw_networkx(G, pos=true_pos, with_labels=False, ax=ax1,\n",
    "#                 node_color=\"red\", node_size=2)\n",
    "nx.draw_networkx_nodes(G, pos=true_pos, ax=ax1, node_color=\"red\", node_size=2)\n",
    "\n",
    "estimated_pos = dict(zip(node_list, e_coords.cpu().detach().numpy()))\n",
    "#nx.draw_networkx(G, pos=estimated_pos, with_labels=False, ax=ax2,\n",
    "#                 node_color=\"red\", node_size=2)\n",
    "nx.draw_networkx_nodes(G, pos=estimated_pos, ax=ax2, node_color=\"red\", node_size=2)\n",
    "\n",
    "plt.show()"
   ]
  },
  {
   "cell_type": "markdown",
   "metadata": {},
   "source": [
    "## 実験条件"
   ]
  },
  {
   "cell_type": "code",
   "execution_count": 10,
   "metadata": {},
   "outputs": [
    {
     "name": "stdout",
     "output_type": "stream",
     "text": [
      "=====Simulation conditions=====\n",
      "目的：隣接町列を生成した数字の予測\n",
      "ネットワーク：GCNN\n",
      "Test run: True\n",
      "Number of beads: 50\n",
      "Number of samples for training: 900\n",
      "Add noise: True\n",
      "Number of epochs: 1\n",
      "Batch size: 128\n",
      "Diffusion time: 20\n",
      "=====Results=====\n",
      "elapsed time: 0:00:04\n"
     ]
    }
   ],
   "source": [
    "nSmaples = len(adjMats)\n",
    "t = 20\n",
    "\n",
    "print(\"=====Simulation conditions=====\")\n",
    "print(\"目的：隣接町列を生成した数字の予測\")\n",
    "print(\"ネットワーク：GCNN\")\n",
    "print(\"Test run: {}\".format(test_run))\n",
    "print(\"Number of beads: {}\".format(nBeads))\n",
    "print(\"Number of samples for training: {}\".format(nSmaples))\n",
    "print(\"Add noise: {}\".format(add_noise))\n",
    "print(\"Number of epochs: {}\".format(epoch_num))\n",
    "print(\"Batch size: {}\".format(batch_size))\n",
    "print(\"Diffusion time: {}\".format(t))\n",
    "\n",
    "print(\"=====Results=====\")\n",
    "print(\"elapsed time: {}\".format(datetime.timedelta(seconds=int(elapsed_time))))"
   ]
  }
 ],
 "metadata": {
  "accelerator": "GPU",
  "colab": {
   "collapsed_sections": [
    "vgRFgRRheDVI"
   ],
   "name": "adj2coords_GCN_PyG.ipynb",
   "provenance": [],
   "toc_visible": true
  },
  "kernelspec": {
   "display_name": "Python 3",
   "language": "python",
   "name": "python3"
  },
  "language_info": {
   "codemirror_mode": {
    "name": "ipython",
    "version": 3
   },
   "file_extension": ".py",
   "mimetype": "text/x-python",
   "name": "python",
   "nbconvert_exporter": "python",
   "pygments_lexer": "ipython3",
   "version": "3.7.7"
  }
 },
 "nbformat": 4,
 "nbformat_minor": 4
}
