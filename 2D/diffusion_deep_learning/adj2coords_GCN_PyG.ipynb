{
 "cells": [
  {
   "cell_type": "markdown",
   "metadata": {
    "colab_type": "text",
    "id": "VXEnmFmUpHvj"
   },
   "source": [
    "# GCNNによって隣接行列からノードの座標の予測する"
   ]
  },
  {
   "cell_type": "markdown",
   "metadata": {
    "colab_type": "text",
    "id": "_b8X4CJ1pNce"
   },
   "source": [
    "## Colabで実行するときの設定"
   ]
  },
  {
   "cell_type": "raw",
   "metadata": {
    "colab": {
     "base_uri": "https://localhost:8080/",
     "height": 71
    },
    "colab_type": "code",
    "executionInfo": {
     "elapsed": 953,
     "status": "ok",
     "timestamp": 1594717465054,
     "user": {
      "displayName": "Hayato Onoue",
      "photoUrl": "",
      "userId": "07486968416296706504"
     },
     "user_tz": -540
    },
    "id": "FvAIttFmf0z-",
    "outputId": "d042110f-242c-461e-9522-f893321e5423"
   },
   "source": [
    "# GoogleDriveのマウント\n",
    "\n",
    "from google.colab import drive\n",
    "drive.mount('/content/drive')\n",
    "\n",
    "%cd /content/drive/My\\ Drive/source/dna-microscopy/2D/diffusion_deep_learning"
   ]
  },
  {
   "cell_type": "raw",
   "metadata": {
    "colab": {
     "base_uri": "https://localhost:8080/",
     "height": 1000
    },
    "colab_type": "code",
    "executionInfo": {
     "elapsed": 11307,
     "status": "ok",
     "timestamp": 1594717411750,
     "user": {
      "displayName": "Hayato Onoue",
      "photoUrl": "",
      "userId": "07486968416296706504"
     },
     "user_tz": -540
    },
    "id": "QVGwjAMZoNKz",
    "jupyter": {
     "outputs_hidden": true
    },
    "outputId": "83fa2aa9-5ee4-4840-cf67-357cbf02aa47"
   },
   "source": [
    "# PyGのインストール\n",
    "! pip install --verbose --no-cache-dir torch-scatter\n",
    "! pip install --verbose --no-cache-dir torch-sparse\n",
    "! pip install --verbose --no-cache-dir torch-cluster\n",
    "! pip install torch-geometric"
   ]
  },
  {
   "cell_type": "raw",
   "metadata": {
    "colab": {
     "base_uri": "https://localhost:8080/",
     "height": 153
    },
    "colab_type": "code",
    "executionInfo": {
     "elapsed": 2508,
     "status": "ok",
     "timestamp": 1594717472587,
     "user": {
      "displayName": "Hayato Onoue",
      "photoUrl": "",
      "userId": "07486968416296706504"
     },
     "user_tz": -540
    },
    "id": "j29azogRMobF",
    "outputId": "02ee142f-188c-4e5a-f994-7b23c8f00933"
   },
   "source": [
    "!pip list | grep torch"
   ]
  },
  {
   "cell_type": "markdown",
   "metadata": {
    "colab_type": "text",
    "id": "escy5OAHnCsB"
   },
   "source": [
    "## 実験条件\n",
    "\n",
    "- ネットワーク: GCNN\n",
    "- 目的：隣接行列を生成した数字の予測\n",
    "- edge weight: 使用\n",
    "- epoch: 100\n",
    "- 拡散時間t=20, ビーズの数nBeads=100\n",
    "- 作った隣接行列：1~9の各クラスで100ずつ\n",
    "- バッチサイズ：128"
   ]
  },
  {
   "cell_type": "code",
   "execution_count": 11,
   "metadata": {
    "colab": {},
    "colab_type": "code",
    "id": "PhVO0ABfv1r1"
   },
   "outputs": [],
   "source": [
    "from matplotlib import pyplot as plt\n",
    "import numpy as np\n",
    "import time\n",
    "import datetime\n",
    "from scipy.io import mmread\n",
    "from sklearn.model_selection import train_test_split\n",
    "import random\n",
    "import networkx as nx\n",
    "import math\n",
    "import os\n",
    "import os.path as osp\n",
    "from natsort import natsorted\n",
    "\n",
    "import torch\n",
    "import torch.nn as nn\n",
    "import torch.nn.functional as F\n",
    "\n",
    "from torch_geometric.nn import GCNConv\n",
    "from torch_geometric.data import Data, Dataset, DataLoader\n",
    "from torch_geometric.transforms import Compose\n",
    "from torch_scatter import  scatter\n",
    "\n",
    "# random seed\n",
    "torch.manual_seed(1234)\n",
    "np.random.seed(1234)\n",
    "random.seed(1234)"
   ]
  },
  {
   "cell_type": "code",
   "execution_count": 4,
   "metadata": {},
   "outputs": [],
   "source": [
    "test_run = True\n",
    "add_noise = True\n",
    "\n",
    "if test_run:\n",
    "    # プログラムが動くかどうかのテスト用の小さいデータ\n",
    "    train_root = osp.join(\"small_data_coords\",\"train\")\n",
    "    val_root = osp.join(\"small_data_coords\",\"val\")\n",
    "    test_root = osp.join(\"small_data_coords\",\"test\")\n",
    "    \n",
    "    epoch_num = 3\n",
    "    batch_size = 128\n",
    "else:\n",
    "    # 本番用データ   \n",
    "    train_root = osp.join(\"data_coords\",\"train\")\n",
    "    val_root = osp.join(\"data_coords\",\"val\")\n",
    "    test_root = osp.join(\"data_coords\",\"test\")    \n",
    "    \n",
    "    epoch_num = 100\n",
    "    batch_size = 128"
   ]
  },
  {
   "cell_type": "markdown",
   "metadata": {
    "colab_type": "text",
    "id": "W7SiDY1Ap-uh"
   },
   "source": [
    "## データの用意"
   ]
  },
  {
   "cell_type": "markdown",
   "metadata": {
    "colab_type": "text",
    "id": "79Q_2UM3rdDJ"
   },
   "source": [
    "### Dataset, DataLoaderの作成"
   ]
  },
  {
   "cell_type": "code",
   "execution_count": 37,
   "metadata": {},
   "outputs": [],
   "source": [
    "class EdgeAttrInvert():\n",
    "    r\"\"\"raise edge_attr to the power p\"\"\"\n",
    "    def __init__(self,p=-1.0):\n",
    "        self.p = p\n",
    "        \n",
    "    def __call__(self, data):\n",
    "        data.edge_attr = data.edge_attr**self.p\n",
    "        return data\n",
    "\n",
    "    def __repr__(self):\n",
    "        return '{}()'.format(self.__class__.__name__)\n",
    "    \n",
    "# TODO: ノイズを生成するクラスを作成しtransformに加える \n",
    "\n",
    "\n",
    "    \n",
    "class MyOwnDataset(Dataset):\n",
    "    \n",
    "    processed_file_name = 'data_{}.pt'\n",
    "    \n",
    "    def __init__(self, root, transform=None, pre_transform=None):\n",
    "        super(MyOwnDataset, self).__init__(root, transform, pre_transform)\n",
    "\n",
    "    @property\n",
    "    def processed_file_names(self):\n",
    "        num_graph = len(os.listdir(osp.join(self.raw_dir,\"adj\")))\n",
    "        return [self.processed_file_name.format(i) for i in range(num_graph)]\n",
    "\n",
    "    def process(self):\n",
    "        adj_file_names = natsorted(os.listdir(osp.join(self.raw_dir,\"adj\")))\n",
    "        coords_file_names = natsorted(os.listdir(osp.join(self.raw_dir,\"coords\")))\n",
    "        \n",
    "        for i, (adj_file_name,coords_file_name) in enumerate(zip(adj_file_names,coords_file_names)):\n",
    "            adj_coo = mmread(osp.join(self.raw_dir, \"adj\", adj_file_name))\n",
    "            coords_nda = mmread(osp.join(self.raw_dir, \"coords\", coords_file_name)).toarray()\n",
    "            \n",
    "            num_beads = adj_coo.shape[0]\n",
    "            num_edges = adj_coo.nnz\n",
    "            nnf = 1  ## nnf: num_node_features\n",
    "            \n",
    "            data = Data(\n",
    "                x=torch.ones((num_beads, nnf)).float(),\n",
    "                edge_index=torch.tensor([adj_coo.row, adj_coo.col], dtype=torch.long),\n",
    "                edge_attr=torch.tensor(adj_coo.data.reshape(num_edges, -1)).float(),\n",
    "                pos=torch.tensor(coords_nda).float()\n",
    "            )\n",
    "                        \n",
    "            \n",
    "            if self.pre_filter is not None and not self.pre_filter(data):\n",
    "                continue\n",
    "\n",
    "            if self.pre_transform is not None:\n",
    "                data = self.pre_transform(data)\n",
    "            \n",
    "            \n",
    "            torch.save(data, osp.join(self.processed_dir, self.processed_file_name.format(i)))\n",
    "\n",
    "        \n",
    "    def len(self):\n",
    "        return len(self.processed_file_names)\n",
    "\n",
    "    def get(self, idx):\n",
    "        data = torch.load(osp.join(self.processed_dir, 'data_{}.pt'.format(idx)))\n",
    "        return data"
   ]
  },
  {
   "cell_type": "code",
   "execution_count": 38,
   "metadata": {},
   "outputs": [
    {
     "name": "stdout",
     "output_type": "stream",
     "text": [
      "Processing...\n",
      "Done!\n",
      "Processing...\n",
      "Done!\n",
      "Processing...\n",
      "Done!\n"
     ]
    }
   ],
   "source": [
    "eai = EdgeAttrInvert(p=-1.0)\n",
    "my_transform = transforms.Compose([eai])\n",
    "\n",
    "train_set = MyOwnDataset(train_root,transform=my_transform)\n",
    "val_set = MyOwnDataset(val_root,transform=my_transform)\n",
    "test_set = MyOwnDataset(test_root,transform=my_transform)\n",
    "\n",
    "train_loader = DataLoader(train_set, batch_size=batch_size)\n",
    "val_loader = DataLoader(val_set, batch_size=batch_size)\n",
    "test_loader = DataLoader(test_set, batch_size=batch_size)"
   ]
  },
  {
   "cell_type": "markdown",
   "metadata": {
    "colab_type": "text",
    "id": "KrYnvRj-KHPF"
   },
   "source": [
    "## モデルの定義"
   ]
  },
  {
   "cell_type": "markdown",
   "metadata": {
    "colab_type": "text",
    "id": "T2O2r6c7vFPo"
   },
   "source": [
    "### ネットワークの定義"
   ]
  },
  {
   "cell_type": "code",
   "execution_count": 55,
   "metadata": {
    "colab": {},
    "colab_type": "code",
    "id": "JMQHfVgUTcYl"
   },
   "outputs": [],
   "source": [
    "class Net(torch.nn.Module):\n",
    "    def __init__(self):\n",
    "        super(Net, self).__init__()\n",
    "        #TODO: 入力グラフのチャネル数への依存をなくす\n",
    "        self.conv1 = GCNConv(1, 16)\n",
    "        self.conv2 = GCNConv(16, 32)\n",
    "        self.conv3 = GCNConv(32, 48)\n",
    "        self.conv4 = GCNConv(48, 64)\n",
    "        self.conv5 = GCNConv(64, 96)\n",
    "        self.conv6 = GCNConv(96, 128)\n",
    "        self.linear1 = torch.nn.Linear(128,64)\n",
    "        #TODO: 分類数への依存をなくす\n",
    "        self.linear2 = torch.nn.Linear(64,2)\n",
    "\n",
    "    def forward(self, data):\n",
    "        x, edge_index = data.x, data.edge_index\n",
    "        \n",
    "        #edge_weightとして用いるedge_attrのshapeが(n,1)だとうまくいかない．\n",
    "        #edge_attr.shapeが(n,)だと動く．おそらくPyG側のバグ？\n",
    "        edge_weight = torch.squeeze(data.edge_attr)\n",
    "        x = self.conv1(x, edge_index, edge_weight)\n",
    "        x = F.relu(x)\n",
    "        x = self.conv2(x, edge_index, edge_weight)\n",
    "        x = F.relu(x)\n",
    "        x = self.conv3(x, edge_index, edge_weight)\n",
    "        x = F.relu(x)\n",
    "        x = self.conv4(x, edge_index, edge_weight)\n",
    "        x = F.relu(x)\n",
    "        x = self.conv5(x, edge_index, edge_weight)\n",
    "        x = F.relu(x)\n",
    "        x = self.conv6(x, edge_index, edge_weight)\n",
    "        x = F.relu(x)\n",
    "        \"\"\"\n",
    "        x = self.conv1(x, edge_index)\n",
    "        x = F.relu(x)\n",
    "        x = self.conv2(x, edge_index)\n",
    "        x = F.relu(x)\n",
    "        x = self.conv3(x, edge_index)\n",
    "        x = F.relu(x)\n",
    "        x = self.conv4(x, edge_index)\n",
    "        x = F.relu(x)\n",
    "        x = self.conv5(x, edge_index)\n",
    "        x = F.relu(x)\n",
    "        x = self.conv6(x, edge_index)\n",
    "        x = F.relu(x)\n",
    "        \"\"\"\n",
    "        #x = scatter(x, data.batch, dim=0, reduce=\"max\")\n",
    "        x = self.linear1(x)\n",
    "        x = F.relu(x)\n",
    "        x = self.linear2(x)\n",
    "        return x"
   ]
  },
  {
   "cell_type": "markdown",
   "metadata": {
    "colab_type": "text",
    "id": "z0RaAOKXP5MK"
   },
   "source": [
    "### 学習"
   ]
  },
  {
   "cell_type": "code",
   "execution_count": 56,
   "metadata": {
    "colab": {
     "base_uri": "https://localhost:8080/",
     "height": 1000
    },
    "colab_type": "code",
    "executionInfo": {
     "elapsed": 161331,
     "status": "ok",
     "timestamp": 1594717726701,
     "user": {
      "displayName": "Hayato Onoue",
      "photoUrl": "",
      "userId": "07486968416296706504"
     },
     "user_tz": -540
    },
    "id": "EZkA2ZvhWpG1",
    "outputId": "76d9c5bf-cb6d-447b-c6b9-d0dfde5471d8"
   },
   "outputs": [
    {
     "name": "stdout",
     "output_type": "stream",
     "text": [
      "device: cpu\n",
      "epoch: 1 loss: 1.300  Val Loss: 1.177 \n",
      "epoch: 2 loss: 1.294  Val Loss: 1.176 \n",
      "epoch: 3 loss: 1.288  Val Loss: 1.175 \n",
      "Finished Training\n",
      "elapsed time: 0:00:00\n"
     ]
    }
   ],
   "source": [
    "nDim = train_set[0].pos.shape[1]  ## 各頂点の座標の次数\n",
    "\n",
    "start = time.time()\n",
    "# GPUの使用\n",
    "device = torch.device(\"cuda:0\" if torch.cuda.is_available() else \"cpu\")\n",
    "#device = torch.device(\"cuda\" if torch.cuda.is_available() else \"cpu\")\n",
    "#device = \"cpu\"\n",
    "print(\"device:\", device)\n",
    "\n",
    "train_size = len(train_set)\n",
    "val_size = len(val_set)\n",
    "test_size = len(test_set)\n",
    "\n",
    "model = Net().to(device)\n",
    "\n",
    "optimizer = torch.optim.Adam(model.parameters())\n",
    "\n",
    "criterion = nn.MSELoss()\n",
    "\n",
    "history = {\n",
    "    \"train_loss\": [],\n",
    "    \"val_loss\": [],\n",
    "}\n",
    "\n",
    "for epoch in range(epoch_num):\n",
    "    train_loss = 0.0\n",
    "    model.train()\n",
    "    for i, batch in enumerate(train_loader):\n",
    "        batch = batch.to(device)\n",
    "        optimizer.zero_grad()\n",
    "        prediction = model(batch)\n",
    "\n",
    "        loss = criterion(prediction, batch.pos)\n",
    "        loss.backward()\n",
    "        optimizer.step()\n",
    "        \n",
    "        train_loss += loss.cpu().item() * nDim\n",
    "        if i % 10 == 9:\n",
    "            progress_bar = '['+('='*((i+1)//10))+(' '*((train_size//100-(i+1))//10))+']'\n",
    "            print('\\repoch: {:d} loss: {:.3f}  {}'\n",
    "                .format(\n",
    "                    epoch + 1,\n",
    "                    loss.cpu().item() * nDim,  # 表示するlossはノード間の距離の二条の平均\n",
    "                    progress_bar),\n",
    "                end=\"  \")\n",
    "\n",
    "    print('\\repoch: {:d} loss: {:.3f}'\n",
    "        .format(epoch + 1, train_loss / math.ceil(train_size / batch_size)), end=\"  \")\n",
    "    history[\"train_loss\"].append(train_loss / math.ceil(train_size / batch_size))\n",
    "\n",
    "    batch_num = 0\n",
    "    loss = 0\n",
    "    with torch.no_grad():\n",
    "        model.eval()\n",
    "        for data in val_loader:\n",
    "            data = data.to(device)\n",
    "            prediction = model(data)\n",
    "            loss += criterion(prediction, data.pos) * nDim\n",
    "            batch_num += 1\n",
    "\n",
    "    history[\"val_loss\"].append(loss.cpu().item()/batch_num)\n",
    "    endstr = ' '*max(1,(train_size//1000-39))+\"\\n\"\n",
    "    print(f'Val Loss: {loss.cpu().item()/batch_num:.3f}',end=endstr)\n",
    "\n",
    "\n",
    "print('Finished Training')\n",
    "elapsed_time = time.time() - start\n",
    "print(\"elapsed time: {}\".format(datetime.timedelta(seconds=int(elapsed_time))))"
   ]
  },
  {
   "cell_type": "markdown",
   "metadata": {
    "colab_type": "text",
    "id": "yq4VX3bHXOJq"
   },
   "source": [
    "## 可視化"
   ]
  },
  {
   "cell_type": "markdown",
   "metadata": {
    "colab_type": "text",
    "id": "HBkC2aF4eGH-"
   },
   "source": [
    "#### 座標予測用の可視化"
   ]
  },
  {
   "cell_type": "code",
   "execution_count": 57,
   "metadata": {
    "colab": {
     "base_uri": "https://localhost:8080/",
     "height": 279
    },
    "colab_type": "code",
    "executionInfo": {
     "elapsed": 1712,
     "status": "ok",
     "timestamp": 1594718171173,
     "user": {
      "displayName": "Hayato Onoue",
      "photoUrl": "",
      "userId": "07486968416296706504"
     },
     "user_tz": -540
    },
    "id": "VN29VyfWeIh3",
    "outputId": "fa64a6c9-ae06-4683-afb0-d396c0935111"
   },
   "outputs": [
    {
     "data": {
      "image/png": "[encoded data removed]",
      "text/plain": [
       "<Figure size 432x288 with 1 Axes>"
      ]
     },
     "metadata": {
      "needs_background": "light"
     },
     "output_type": "display_data"
    }
   ],
   "source": [
    "# 損失\n",
    "plt.xlabel(\"epoch\")\n",
    "plt.ylabel(\"loss\")\n",
    "\n",
    "x = np.arange(epoch_num) + 1\n",
    "plt.plot(x, history[\"train_loss\"], label=\"train loss\")\n",
    "plt.plot(x, history[\"val_loss\"], label=\"val loss\")\n",
    "plt.legend()\n",
    "plt.show()"
   ]
  },
  {
   "cell_type": "code",
   "execution_count": 72,
   "metadata": {
    "colab": {},
    "colab_type": "code",
    "id": "IDcfJAmtFP4u"
   },
   "outputs": [
    {
     "data": {
      "image/png": "[encoded data removed]",
      "text/plain": [
       "<Figure size 432x288 with 2 Axes>"
      ]
     },
     "metadata": {},
     "output_type": "display_data"
    }
   ],
   "source": [
    "t_index = 0\n",
    "nBeads = train_set[0].num_nodes\n",
    "\n",
    "node_list = list(range(nBeads))\n",
    "\n",
    "test_data = test_set[t_index].to(device)\n",
    "\n",
    "# テストデータのノードの座標を予想\n",
    "with torch.no_grad():\n",
    "    model.eval()\n",
    "    estimated_coords = model(test_data)\n",
    "    \n",
    "# 描画のためのグラフを作成\n",
    "test_edge_indices = torch.t(test_data.edge_index).to('cpu').detach().numpy()\n",
    "true_coords = test_data.pos.to('cpu').detach().numpy().copy()\n",
    "\n",
    "G = nx.Graph()\n",
    "G.add_nodes_from(node_list)\n",
    "G.add_edges_from(test_edge_indices)\n",
    "\n",
    "fig = plt.figure()\n",
    "\n",
    "ax1 = fig.add_subplot(1,2,1)\n",
    "ax1.set_title(\"True\")\n",
    "ax2 = fig.add_subplot(1,2,2)\n",
    "ax2.set_title(\"Estimated\")\n",
    "\n",
    "true_pos = dict(zip(node_list, true_coords))\n",
    "#nx.draw_networkx(G, pos=true_pos, with_labels=False, ax=ax1,\n",
    "#                 node_color=\"red\", node_size=2)\n",
    "nx.draw_networkx_nodes(G, pos=true_pos, ax=ax1, node_color=\"red\", node_size=2)\n",
    "\n",
    "estimated_pos = dict(zip(node_list, estimated_coords.cpu().detach().numpy()))\n",
    "#nx.draw_networkx(G, pos=estimated_pos, with_labels=False, ax=ax2,\n",
    "#                 node_color=\"red\", node_size=2)\n",
    "nx.draw_networkx_nodes(G, pos=estimated_pos, ax=ax2, node_color=\"red\", node_size=2)\n",
    "\n",
    "plt.show()"
   ]
  },
  {
   "cell_type": "markdown",
   "metadata": {},
   "source": [
    "## 実験条件"
   ]
  },
  {
   "cell_type": "code",
   "execution_count": 73,
   "metadata": {},
   "outputs": [
    {
     "name": "stdout",
     "output_type": "stream",
     "text": [
      "=====Simulation conditions=====\n",
      "目的：隣接町列を生成した数字の予測\n",
      "ネットワーク：GCNN\n",
      "Test run: True\n",
      "Number of beads: 10\n",
      "Number of samples for training: 72\n",
      "Add noise: True\n",
      "Number of epochs: 3\n",
      "Batch size: 128\n",
      "Diffusion time: 20\n",
      "=====Results=====\n",
      "elapsed time: 0:00:00\n"
     ]
    }
   ],
   "source": [
    "nSmaples = len(train_set)\n",
    "t = 20\n",
    "\n",
    "print(\"=====Simulation conditions=====\")\n",
    "print(\"目的：隣接町列を生成した数字の予測\")\n",
    "print(\"ネットワーク：GCNN\")\n",
    "print(\"Test run: {}\".format(test_run))\n",
    "print(\"Number of beads: {}\".format(nBeads))\n",
    "print(\"Number of samples for training: {}\".format(nSmaples))\n",
    "print(\"Add noise: {}\".format(add_noise))\n",
    "print(\"Number of epochs: {}\".format(epoch_num))\n",
    "print(\"Batch size: {}\".format(batch_size))\n",
    "print(\"Diffusion time: {}\".format(t))\n",
    "\n",
    "print(\"=====Results=====\")\n",
    "print(\"elapsed time: {}\".format(datetime.timedelta(seconds=int(elapsed_time))))"
   ]
  }
 ],
 "metadata": {
  "accelerator": "GPU",
  "colab": {
   "collapsed_sections": [
    "vgRFgRRheDVI"
   ],
   "name": "adj2coords_GCN_PyG.ipynb",
   "provenance": [],
   "toc_visible": true
  },
  "kernelspec": {
   "display_name": "Python 3",
   "language": "python",
   "name": "python3"
  },
  "language_info": {
   "codemirror_mode": {
    "name": "ipython",
    "version": 3
   },
   "file_extension": ".py",
   "mimetype": "text/x-python",
   "name": "python",
   "nbconvert_exporter": "python",
   "pygments_lexer": "ipython3",
   "version": "3.8.3"
  }
 },
 "nbformat": 4,
 "nbformat_minor": 4
}
